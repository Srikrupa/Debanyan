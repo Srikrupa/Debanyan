{
 "cells": [
  {
   "cell_type": "markdown",
   "id": "b7f3de4b",
   "metadata": {
    "id": "b7f3de4b"
   },
   "source": [
    "# AG News Classification Dataset"
   ]
  },
  {
   "cell_type": "markdown",
   "id": "c4fc759d",
   "metadata": {
    "id": "c4fc759d"
   },
   "source": [
    "### DESCRIPTION\n",
    "The AG's news topic classification dataset is constructed by choosing 4 largest classes from the original corpus. Each class contains 30,000 training samples and 1,900 testing samples. The total number of training samples is 120,000 and testing 7,600.\n",
    "\n",
    "The file classes.txt contains a list of classes corresponding to each label.\n",
    "\n",
    "The files train.csv and test.csv contain all the training samples as comma-sparated values. There are 3 columns in them, corresponding to class index (1 to 4), title and description. The title and description are escaped using double quotes (\"), and any internal double quote is escaped by 2 double quotes (\"\"). New lines are escaped by a backslash followed with an \"n\" character, that is \"\\n\"."
   ]
  },
  {
   "cell_type": "code",
   "execution_count": 1,
   "id": "Hhep-Yi7N1vz",
   "metadata": {
    "colab": {
     "base_uri": "https://localhost:8080/"
    },
    "id": "Hhep-Yi7N1vz",
    "outputId": "95b8439b-7ece-47d7-a421-599b7e0cf72e"
   },
   "outputs": [
    {
     "name": "stdout",
     "output_type": "stream",
     "text": [
      "Requirement already satisfied: unidecode in c:\\users\\sukrav\\anaconda3\\lib\\site-packages (1.3.4)\n",
      "Requirement already satisfied: contractions in c:\\users\\sukrav\\anaconda3\\lib\\site-packages (0.1.72)\n",
      "Requirement already satisfied: textsearch>=0.0.21 in c:\\users\\sukrav\\anaconda3\\lib\\site-packages (from contractions) (0.0.21)\n",
      "Requirement already satisfied: anyascii in c:\\users\\sukrav\\anaconda3\\lib\\site-packages (from textsearch>=0.0.21->contractions) (0.3.1)\n",
      "Requirement already satisfied: pyahocorasick in c:\\users\\sukrav\\anaconda3\\lib\\site-packages (from textsearch>=0.0.21->contractions) (1.4.4)\n"
     ]
    }
   ],
   "source": [
    "!pip install unidecode contractions"
   ]
  },
  {
   "cell_type": "code",
   "execution_count": 2,
   "id": "zn7k7uPBN2Tx",
   "metadata": {
    "colab": {
     "base_uri": "https://localhost:8080/"
    },
    "id": "zn7k7uPBN2Tx",
    "outputId": "2d235549-5775-4643-f15d-46c513571814"
   },
   "outputs": [
    {
     "name": "stdout",
     "output_type": "stream",
     "text": [
      "Requirement already satisfied: spacy in c:\\users\\sukrav\\anaconda3\\lib\\site-packages (3.3.1)\n",
      "Requirement already satisfied: download in c:\\users\\sukrav\\anaconda3\\lib\\site-packages (0.3.5)\n",
      "Requirement already satisfied: en_core_web_sm in c:\\users\\sukrav\\anaconda3\\lib\\site-packages (3.3.0)\n",
      "Requirement already satisfied: spacy-loggers<2.0.0,>=1.0.0 in c:\\users\\sukrav\\anaconda3\\lib\\site-packages (from spacy) (1.0.2)\n",
      "Requirement already satisfied: requests<3.0.0,>=2.13.0 in c:\\users\\sukrav\\anaconda3\\lib\\site-packages (from spacy) (2.27.1)\n",
      "Requirement already satisfied: tqdm<5.0.0,>=4.38.0 in c:\\users\\sukrav\\anaconda3\\lib\\site-packages (from spacy) (4.64.0)\n",
      "Requirement already satisfied: murmurhash<1.1.0,>=0.28.0 in c:\\users\\sukrav\\anaconda3\\lib\\site-packages (from spacy) (1.0.7)\n",
      "Requirement already satisfied: setuptools in c:\\users\\sukrav\\anaconda3\\lib\\site-packages (from spacy) (62.1.0)\n",
      "Requirement already satisfied: langcodes<4.0.0,>=3.2.0 in c:\\users\\sukrav\\anaconda3\\lib\\site-packages (from spacy) (3.3.0)\n",
      "Requirement already satisfied: wasabi<1.1.0,>=0.9.1 in c:\\users\\sukrav\\anaconda3\\lib\\site-packages (from spacy) (0.9.1)\n",
      "Requirement already satisfied: blis<0.8.0,>=0.4.0 in c:\\users\\sukrav\\anaconda3\\lib\\site-packages (from spacy) (0.7.8)\n",
      "Requirement already satisfied: packaging>=20.0 in c:\\users\\sukrav\\anaconda3\\lib\\site-packages (from spacy) (20.9)\n",
      "Requirement already satisfied: preshed<3.1.0,>=3.0.2 in c:\\users\\sukrav\\anaconda3\\lib\\site-packages (from spacy) (3.0.6)\n",
      "Requirement already satisfied: thinc<8.1.0,>=8.0.14 in c:\\users\\sukrav\\anaconda3\\lib\\site-packages (from spacy) (8.0.15)\n",
      "Requirement already satisfied: catalogue<2.1.0,>=2.0.6 in c:\\users\\sukrav\\anaconda3\\lib\\site-packages (from spacy) (2.0.7)\n",
      "Requirement already satisfied: spacy-legacy<3.1.0,>=3.0.9 in c:\\users\\sukrav\\anaconda3\\lib\\site-packages (from spacy) (3.0.9)\n",
      "Requirement already satisfied: srsly<3.0.0,>=2.4.3 in c:\\users\\sukrav\\anaconda3\\lib\\site-packages (from spacy) (2.4.3)\n",
      "Requirement already satisfied: typer<0.5.0,>=0.3.0 in c:\\users\\sukrav\\anaconda3\\lib\\site-packages (from spacy) (0.4.1)\n",
      "Requirement already satisfied: jinja2 in c:\\users\\sukrav\\anaconda3\\lib\\site-packages (from spacy) (2.11.3)\n",
      "Requirement already satisfied: pathy>=0.3.5 in c:\\users\\sukrav\\anaconda3\\lib\\site-packages (from spacy) (0.6.1)\n",
      "Requirement already satisfied: cymem<2.1.0,>=2.0.2 in c:\\users\\sukrav\\anaconda3\\lib\\site-packages (from spacy) (2.0.6)\n",
      "Requirement already satisfied: pydantic!=1.8,!=1.8.1,<1.9.0,>=1.7.4 in c:\\users\\sukrav\\anaconda3\\lib\\site-packages (from spacy) (1.8.2)\n",
      "Requirement already satisfied: numpy>=1.15.0 in c:\\users\\sukrav\\anaconda3\\lib\\site-packages (from spacy) (1.20.1)\n",
      "Requirement already satisfied: six in c:\\users\\sukrav\\anaconda3\\lib\\site-packages (from download) (1.16.0)\n",
      "Requirement already satisfied: pyparsing>=2.0.2 in c:\\users\\sukrav\\anaconda3\\lib\\site-packages (from packaging>=20.0->spacy) (3.0.4)\n",
      "Requirement already satisfied: smart-open<6.0.0,>=5.0.0 in c:\\users\\sukrav\\anaconda3\\lib\\site-packages (from pathy>=0.3.5->spacy) (5.2.1)\n",
      "Requirement already satisfied: typing-extensions>=3.7.4.3 in c:\\users\\sukrav\\anaconda3\\lib\\site-packages (from pydantic!=1.8,!=1.8.1,<1.9.0,>=1.7.4->spacy) (4.1.1)\n",
      "Requirement already satisfied: certifi>=2017.4.17 in c:\\users\\sukrav\\anaconda3\\lib\\site-packages (from requests<3.0.0,>=2.13.0->spacy) (2021.10.8)\n",
      "Requirement already satisfied: idna<4,>=2.5 in c:\\users\\sukrav\\anaconda3\\lib\\site-packages (from requests<3.0.0,>=2.13.0->spacy) (2.10)\n",
      "Requirement already satisfied: charset-normalizer~=2.0.0 in c:\\users\\sukrav\\anaconda3\\lib\\site-packages (from requests<3.0.0,>=2.13.0->spacy) (2.0.12)\n",
      "Requirement already satisfied: urllib3<1.27,>=1.21.1 in c:\\users\\sukrav\\anaconda3\\lib\\site-packages (from requests<3.0.0,>=2.13.0->spacy) (1.26.4)\n",
      "Requirement already satisfied: colorama in c:\\users\\sukrav\\anaconda3\\lib\\site-packages (from tqdm<5.0.0,>=4.38.0->spacy) (0.4.4)\n",
      "Requirement already satisfied: click<9.0.0,>=7.1.1 in c:\\users\\sukrav\\anaconda3\\lib\\site-packages (from typer<0.5.0,>=0.3.0->spacy) (8.0.4)\n",
      "Requirement already satisfied: MarkupSafe>=0.23 in c:\\users\\sukrav\\anaconda3\\lib\\site-packages (from jinja2->spacy) (2.0.1)\n"
     ]
    }
   ],
   "source": [
    "!pip install spacy download en_core_web_sm"
   ]
  },
  {
   "cell_type": "code",
   "execution_count": 3,
   "id": "G8J_QsMnORyW",
   "metadata": {
    "colab": {
     "base_uri": "https://localhost:8080/"
    },
    "id": "G8J_QsMnORyW",
    "outputId": "af32e4d2-337d-4bd0-bade-643a8ad19237"
   },
   "outputs": [
    {
     "name": "stdout",
     "output_type": "stream",
     "text": [
      "Requirement already satisfied: xgboost in c:\\users\\sukrav\\anaconda3\\lib\\site-packages (1.5.2)\n",
      "Requirement already satisfied: scipy in c:\\users\\sukrav\\anaconda3\\lib\\site-packages (from xgboost) (1.6.2)\n",
      "Requirement already satisfied: numpy in c:\\users\\sukrav\\anaconda3\\lib\\site-packages (from xgboost) (1.20.1)\n"
     ]
    }
   ],
   "source": [
    "!pip install xgboost"
   ]
  },
  {
   "cell_type": "code",
   "execution_count": 4,
   "id": "8VsPAzXJPyhQ",
   "metadata": {
    "colab": {
     "base_uri": "https://localhost:8080/"
    },
    "id": "8VsPAzXJPyhQ",
    "outputId": "7af6d4b3-82c6-4b51-9baf-86f921144424"
   },
   "outputs": [
    {
     "name": "stdout",
     "output_type": "stream",
     "text": [
      "Collecting en-core-web-lg==3.3.0\n",
      "  Downloading https://github.com/explosion/spacy-models/releases/download/en_core_web_lg-3.3.0/en_core_web_lg-3.3.0-py3-none-any.whl (400.7 MB)\n",
      "     -------------------------------------- 400.7/400.7 MB 2.9 MB/s eta 0:00:00\n",
      "Requirement already satisfied: spacy<3.4.0,>=3.3.0.dev0 in c:\\users\\sukrav\\anaconda3\\lib\\site-packages (from en-core-web-lg==3.3.0) (3.3.1)\n",
      "Requirement already satisfied: langcodes<4.0.0,>=3.2.0 in c:\\users\\sukrav\\anaconda3\\lib\\site-packages (from spacy<3.4.0,>=3.3.0.dev0->en-core-web-lg==3.3.0) (3.3.0)\n",
      "Requirement already satisfied: setuptools in c:\\users\\sukrav\\anaconda3\\lib\\site-packages (from spacy<3.4.0,>=3.3.0.dev0->en-core-web-lg==3.3.0) (62.1.0)\n",
      "Requirement already satisfied: tqdm<5.0.0,>=4.38.0 in c:\\users\\sukrav\\anaconda3\\lib\\site-packages (from spacy<3.4.0,>=3.3.0.dev0->en-core-web-lg==3.3.0) (4.64.0)\n",
      "Requirement already satisfied: spacy-loggers<2.0.0,>=1.0.0 in c:\\users\\sukrav\\anaconda3\\lib\\site-packages (from spacy<3.4.0,>=3.3.0.dev0->en-core-web-lg==3.3.0) (1.0.2)\n",
      "Requirement already satisfied: pathy>=0.3.5 in c:\\users\\sukrav\\anaconda3\\lib\\site-packages (from spacy<3.4.0,>=3.3.0.dev0->en-core-web-lg==3.3.0) (0.6.1)\n",
      "Requirement already satisfied: srsly<3.0.0,>=2.4.3 in c:\\users\\sukrav\\anaconda3\\lib\\site-packages (from spacy<3.4.0,>=3.3.0.dev0->en-core-web-lg==3.3.0) (2.4.3)\n",
      "Requirement already satisfied: requests<3.0.0,>=2.13.0 in c:\\users\\sukrav\\anaconda3\\lib\\site-packages (from spacy<3.4.0,>=3.3.0.dev0->en-core-web-lg==3.3.0) (2.27.1)\n",
      "Requirement already satisfied: typer<0.5.0,>=0.3.0 in c:\\users\\sukrav\\anaconda3\\lib\\site-packages (from spacy<3.4.0,>=3.3.0.dev0->en-core-web-lg==3.3.0) (0.4.1)\n",
      "Requirement already satisfied: wasabi<1.1.0,>=0.9.1 in c:\\users\\sukrav\\anaconda3\\lib\\site-packages (from spacy<3.4.0,>=3.3.0.dev0->en-core-web-lg==3.3.0) (0.9.1)\n",
      "Requirement already satisfied: pydantic!=1.8,!=1.8.1,<1.9.0,>=1.7.4 in c:\\users\\sukrav\\anaconda3\\lib\\site-packages (from spacy<3.4.0,>=3.3.0.dev0->en-core-web-lg==3.3.0) (1.8.2)\n",
      "Requirement already satisfied: numpy>=1.15.0 in c:\\users\\sukrav\\anaconda3\\lib\\site-packages (from spacy<3.4.0,>=3.3.0.dev0->en-core-web-lg==3.3.0) (1.20.1)\n",
      "Requirement already satisfied: packaging>=20.0 in c:\\users\\sukrav\\anaconda3\\lib\\site-packages (from spacy<3.4.0,>=3.3.0.dev0->en-core-web-lg==3.3.0) (20.9)\n",
      "Requirement already satisfied: jinja2 in c:\\users\\sukrav\\anaconda3\\lib\\site-packages (from spacy<3.4.0,>=3.3.0.dev0->en-core-web-lg==3.3.0) (2.11.3)\n",
      "Requirement already satisfied: catalogue<2.1.0,>=2.0.6 in c:\\users\\sukrav\\anaconda3\\lib\\site-packages (from spacy<3.4.0,>=3.3.0.dev0->en-core-web-lg==3.3.0) (2.0.7)\n",
      "Requirement already satisfied: cymem<2.1.0,>=2.0.2 in c:\\users\\sukrav\\anaconda3\\lib\\site-packages (from spacy<3.4.0,>=3.3.0.dev0->en-core-web-lg==3.3.0) (2.0.6)\n",
      "Requirement already satisfied: blis<0.8.0,>=0.4.0 in c:\\users\\sukrav\\anaconda3\\lib\\site-packages (from spacy<3.4.0,>=3.3.0.dev0->en-core-web-lg==3.3.0) (0.7.8)\n",
      "Requirement already satisfied: spacy-legacy<3.1.0,>=3.0.9 in c:\\users\\sukrav\\anaconda3\\lib\\site-packages (from spacy<3.4.0,>=3.3.0.dev0->en-core-web-lg==3.3.0) (3.0.9)\n",
      "Requirement already satisfied: preshed<3.1.0,>=3.0.2 in c:\\users\\sukrav\\anaconda3\\lib\\site-packages (from spacy<3.4.0,>=3.3.0.dev0->en-core-web-lg==3.3.0) (3.0.6)\n",
      "Requirement already satisfied: thinc<8.1.0,>=8.0.14 in c:\\users\\sukrav\\anaconda3\\lib\\site-packages (from spacy<3.4.0,>=3.3.0.dev0->en-core-web-lg==3.3.0) (8.0.15)\n",
      "Requirement already satisfied: murmurhash<1.1.0,>=0.28.0 in c:\\users\\sukrav\\anaconda3\\lib\\site-packages (from spacy<3.4.0,>=3.3.0.dev0->en-core-web-lg==3.3.0) (1.0.7)\n",
      "Requirement already satisfied: pyparsing>=2.0.2 in c:\\users\\sukrav\\anaconda3\\lib\\site-packages (from packaging>=20.0->spacy<3.4.0,>=3.3.0.dev0->en-core-web-lg==3.3.0) (3.0.4)\n",
      "Requirement already satisfied: smart-open<6.0.0,>=5.0.0 in c:\\users\\sukrav\\anaconda3\\lib\\site-packages (from pathy>=0.3.5->spacy<3.4.0,>=3.3.0.dev0->en-core-web-lg==3.3.0) (5.2.1)\n",
      "Requirement already satisfied: typing-extensions>=3.7.4.3 in c:\\users\\sukrav\\anaconda3\\lib\\site-packages (from pydantic!=1.8,!=1.8.1,<1.9.0,>=1.7.4->spacy<3.4.0,>=3.3.0.dev0->en-core-web-lg==3.3.0) (4.1.1)\n",
      "Requirement already satisfied: urllib3<1.27,>=1.21.1 in c:\\users\\sukrav\\anaconda3\\lib\\site-packages (from requests<3.0.0,>=2.13.0->spacy<3.4.0,>=3.3.0.dev0->en-core-web-lg==3.3.0) (1.26.4)\n",
      "Requirement already satisfied: charset-normalizer~=2.0.0 in c:\\users\\sukrav\\anaconda3\\lib\\site-packages (from requests<3.0.0,>=2.13.0->spacy<3.4.0,>=3.3.0.dev0->en-core-web-lg==3.3.0) (2.0.12)\n",
      "Requirement already satisfied: idna<4,>=2.5 in c:\\users\\sukrav\\anaconda3\\lib\\site-packages (from requests<3.0.0,>=2.13.0->spacy<3.4.0,>=3.3.0.dev0->en-core-web-lg==3.3.0) (2.10)\n",
      "Requirement already satisfied: certifi>=2017.4.17 in c:\\users\\sukrav\\anaconda3\\lib\\site-packages (from requests<3.0.0,>=2.13.0->spacy<3.4.0,>=3.3.0.dev0->en-core-web-lg==3.3.0) (2021.10.8)\n",
      "Requirement already satisfied: colorama in c:\\users\\sukrav\\anaconda3\\lib\\site-packages (from tqdm<5.0.0,>=4.38.0->spacy<3.4.0,>=3.3.0.dev0->en-core-web-lg==3.3.0) (0.4.4)\n",
      "Requirement already satisfied: click<9.0.0,>=7.1.1 in c:\\users\\sukrav\\anaconda3\\lib\\site-packages (from typer<0.5.0,>=0.3.0->spacy<3.4.0,>=3.3.0.dev0->en-core-web-lg==3.3.0) (8.0.4)\n",
      "Requirement already satisfied: MarkupSafe>=0.23 in c:\\users\\sukrav\\anaconda3\\lib\\site-packages (from jinja2->spacy<3.4.0,>=3.3.0.dev0->en-core-web-lg==3.3.0) (2.0.1)\n",
      "[+] Download and installation successful\n",
      "You can now load the package via spacy.load('en_core_web_lg')\n"
     ]
    },
    {
     "name": "stderr",
     "output_type": "stream",
     "text": [
      "2022-07-15 18:48:39.373811: W tensorflow/stream_executor/platform/default/dso_loader.cc:64] Could not load dynamic library 'cudart64_110.dll'; dlerror: cudart64_110.dll not found\n",
      "2022-07-15 18:48:39.375122: I tensorflow/stream_executor/cuda/cudart_stub.cc:29] Ignore above cudart dlerror if you do not have a GPU set up on your machine.\n"
     ]
    }
   ],
   "source": [
    "!python -m spacy download en_core_web_lg"
   ]
  },
  {
   "cell_type": "markdown",
   "id": "ffa3969f",
   "metadata": {
    "id": "ffa3969f"
   },
   "source": [
    "## Importing Libraries"
   ]
  },
  {
   "cell_type": "code",
   "execution_count": 5,
   "id": "6b87ac40",
   "metadata": {
    "colab": {
     "base_uri": "https://localhost:8080/"
    },
    "id": "6b87ac40",
    "outputId": "65601eb9-ea99-43b9-a7b2-b788e1aff2a4"
   },
   "outputs": [
    {
     "name": "stderr",
     "output_type": "stream",
     "text": [
      "In C:\\Users\\sukrav\\Anaconda3\\lib\\site-packages\\matplotlib\\mpl-data\\stylelib\\_classic_test.mplstyle: \n",
      "The text.latex.preview rcparam was deprecated in Matplotlib 3.3 and will be removed two minor releases later.\n",
      "In C:\\Users\\sukrav\\Anaconda3\\lib\\site-packages\\matplotlib\\mpl-data\\stylelib\\_classic_test.mplstyle: \n",
      "The mathtext.fallback_to_cm rcparam was deprecated in Matplotlib 3.3 and will be removed two minor releases later.\n",
      "In C:\\Users\\sukrav\\Anaconda3\\lib\\site-packages\\matplotlib\\mpl-data\\stylelib\\_classic_test.mplstyle: Support for setting the 'mathtext.fallback_to_cm' rcParam is deprecated since 3.3 and will be removed two minor releases later; use 'mathtext.fallback : 'cm' instead.\n",
      "In C:\\Users\\sukrav\\Anaconda3\\lib\\site-packages\\matplotlib\\mpl-data\\stylelib\\_classic_test.mplstyle: \n",
      "The validate_bool_maybe_none function was deprecated in Matplotlib 3.3 and will be removed two minor releases later.\n",
      "In C:\\Users\\sukrav\\Anaconda3\\lib\\site-packages\\matplotlib\\mpl-data\\stylelib\\_classic_test.mplstyle: \n",
      "The savefig.jpeg_quality rcparam was deprecated in Matplotlib 3.3 and will be removed two minor releases later.\n",
      "In C:\\Users\\sukrav\\Anaconda3\\lib\\site-packages\\matplotlib\\mpl-data\\stylelib\\_classic_test.mplstyle: \n",
      "The keymap.all_axes rcparam was deprecated in Matplotlib 3.3 and will be removed two minor releases later.\n",
      "In C:\\Users\\sukrav\\Anaconda3\\lib\\site-packages\\matplotlib\\mpl-data\\stylelib\\_classic_test.mplstyle: \n",
      "The animation.avconv_path rcparam was deprecated in Matplotlib 3.3 and will be removed two minor releases later.\n",
      "In C:\\Users\\sukrav\\Anaconda3\\lib\\site-packages\\matplotlib\\mpl-data\\stylelib\\_classic_test.mplstyle: \n",
      "The animation.avconv_args rcparam was deprecated in Matplotlib 3.3 and will be removed two minor releases later.\n",
      "[nltk_data] Downloading package punkt to\n",
      "[nltk_data]     C:\\Users\\sukrav\\AppData\\Roaming\\nltk_data...\n",
      "[nltk_data]   Package punkt is already up-to-date!\n"
     ]
    }
   ],
   "source": [
    "import numpy as np\n",
    "import pandas as pd\n",
    "import seaborn as sns\n",
    "import matplotlib.pyplot as plt\n",
    "import os\n",
    "import warnings\n",
    "from nltk.tokenize import word_tokenize\n",
    "import nltk\n",
    "nltk.download('punkt')\n",
    "from sklearn.feature_extraction.text import CountVectorizer, TfidfVectorizer\n",
    "warnings.filterwarnings('ignore')\n",
    "import re\n",
    "import string\n",
    "import unidecode\n",
    "import contractions\n",
    "from sklearn.preprocessing import Normalizer\n",
    "from nltk.stem.porter import PorterStemmer\n",
    "from time import time\n",
    "import spacy\n",
    "import pprint\n",
    "from copy import deepcopy\n",
    "from tqdm import tqdm\n",
    "from sklearn.svm import LinearSVC\n",
    "from sklearn.metrics import accuracy_score , f1_score"
   ]
  },
  {
   "cell_type": "code",
   "execution_count": 6,
   "id": "316874ae",
   "metadata": {
    "colab": {
     "base_uri": "https://localhost:8080/"
    },
    "id": "316874ae",
    "outputId": "a4184060-f07b-448f-e4e5-30a18c77f7b6"
   },
   "outputs": [
    {
     "name": "stdout",
     "output_type": "stream",
     "text": [
      "Requirement already satisfied: spacy in c:\\users\\sukrav\\anaconda3\\lib\\site-packages (3.3.1)\n",
      "Collecting spacy\n",
      "  Using cached spacy-3.4.0-cp38-cp38-win_amd64.whl (12.1 MB)\n",
      "Requirement already satisfied: spacy-legacy<3.1.0,>=3.0.9 in c:\\users\\sukrav\\anaconda3\\lib\\site-packages (from spacy) (3.0.9)\n",
      "Collecting thinc<8.2.0,>=8.1.0\n",
      "  Using cached thinc-8.1.0-cp38-cp38-win_amd64.whl (1.3 MB)\n",
      "Requirement already satisfied: preshed<3.1.0,>=3.0.2 in c:\\users\\sukrav\\anaconda3\\lib\\site-packages (from spacy) (3.0.6)\n",
      "Requirement already satisfied: tqdm<5.0.0,>=4.38.0 in c:\\users\\sukrav\\anaconda3\\lib\\site-packages (from spacy) (4.64.0)\n",
      "Requirement already satisfied: requests<3.0.0,>=2.13.0 in c:\\users\\sukrav\\anaconda3\\lib\\site-packages (from spacy) (2.27.1)\n",
      "Requirement already satisfied: langcodes<4.0.0,>=3.2.0 in c:\\users\\sukrav\\anaconda3\\lib\\site-packages (from spacy) (3.3.0)\n",
      "Requirement already satisfied: spacy-loggers<2.0.0,>=1.0.0 in c:\\users\\sukrav\\anaconda3\\lib\\site-packages (from spacy) (1.0.2)\n",
      "Requirement already satisfied: cymem<2.1.0,>=2.0.2 in c:\\users\\sukrav\\anaconda3\\lib\\site-packages (from spacy) (2.0.6)\n",
      "Requirement already satisfied: catalogue<2.1.0,>=2.0.6 in c:\\users\\sukrav\\anaconda3\\lib\\site-packages (from spacy) (2.0.7)\n",
      "Requirement already satisfied: setuptools in c:\\users\\sukrav\\anaconda3\\lib\\site-packages (from spacy) (62.1.0)\n",
      "Requirement already satisfied: numpy>=1.15.0 in c:\\users\\sukrav\\anaconda3\\lib\\site-packages (from spacy) (1.20.1)\n",
      "Requirement already satisfied: wasabi<1.1.0,>=0.9.1 in c:\\users\\sukrav\\anaconda3\\lib\\site-packages (from spacy) (0.9.1)\n",
      "Requirement already satisfied: jinja2 in c:\\users\\sukrav\\anaconda3\\lib\\site-packages (from spacy) (2.11.3)\n",
      "Requirement already satisfied: typer<0.5.0,>=0.3.0 in c:\\users\\sukrav\\anaconda3\\lib\\site-packages (from spacy) (0.4.1)\n",
      "Requirement already satisfied: srsly<3.0.0,>=2.4.3 in c:\\users\\sukrav\\anaconda3\\lib\\site-packages (from spacy) (2.4.3)\n",
      "Requirement already satisfied: murmurhash<1.1.0,>=0.28.0 in c:\\users\\sukrav\\anaconda3\\lib\\site-packages (from spacy) (1.0.7)\n",
      "Requirement already satisfied: pathy>=0.3.5 in c:\\users\\sukrav\\anaconda3\\lib\\site-packages (from spacy) (0.6.1)\n",
      "Requirement already satisfied: packaging>=20.0 in c:\\users\\sukrav\\anaconda3\\lib\\site-packages (from spacy) (20.9)\n",
      "Requirement already satisfied: pydantic!=1.8,!=1.8.1,<1.10.0,>=1.7.4 in c:\\users\\sukrav\\anaconda3\\lib\\site-packages (from spacy) (1.8.2)\n",
      "Requirement already satisfied: pyparsing>=2.0.2 in c:\\users\\sukrav\\anaconda3\\lib\\site-packages (from packaging>=20.0->spacy) (3.0.4)\n",
      "Requirement already satisfied: smart-open<6.0.0,>=5.0.0 in c:\\users\\sukrav\\anaconda3\\lib\\site-packages (from pathy>=0.3.5->spacy) (5.2.1)\n",
      "Requirement already satisfied: typing-extensions>=3.7.4.3 in c:\\users\\sukrav\\anaconda3\\lib\\site-packages (from pydantic!=1.8,!=1.8.1,<1.10.0,>=1.7.4->spacy) (4.1.1)\n",
      "Requirement already satisfied: urllib3<1.27,>=1.21.1 in c:\\users\\sukrav\\anaconda3\\lib\\site-packages (from requests<3.0.0,>=2.13.0->spacy) (1.26.4)\n",
      "Requirement already satisfied: charset-normalizer~=2.0.0 in c:\\users\\sukrav\\anaconda3\\lib\\site-packages (from requests<3.0.0,>=2.13.0->spacy) (2.0.12)\n",
      "Requirement already satisfied: certifi>=2017.4.17 in c:\\users\\sukrav\\anaconda3\\lib\\site-packages (from requests<3.0.0,>=2.13.0->spacy) (2021.10.8)\n",
      "Requirement already satisfied: idna<4,>=2.5 in c:\\users\\sukrav\\anaconda3\\lib\\site-packages (from requests<3.0.0,>=2.13.0->spacy) (2.10)\n",
      "Requirement already satisfied: blis<0.8.0,>=0.7.8 in c:\\users\\sukrav\\anaconda3\\lib\\site-packages (from thinc<8.2.0,>=8.1.0->spacy) (0.7.8)\n",
      "Requirement already satisfied: colorama in c:\\users\\sukrav\\anaconda3\\lib\\site-packages (from tqdm<5.0.0,>=4.38.0->spacy) (0.4.4)\n",
      "Requirement already satisfied: click<9.0.0,>=7.1.1 in c:\\users\\sukrav\\anaconda3\\lib\\site-packages (from typer<0.5.0,>=0.3.0->spacy) (8.0.4)\n",
      "Requirement already satisfied: MarkupSafe>=0.23 in c:\\users\\sukrav\\anaconda3\\lib\\site-packages (from jinja2->spacy) (2.0.1)\n",
      "Installing collected packages: thinc, spacy\n",
      "  Attempting uninstall: thinc\n",
      "    Found existing installation: thinc 8.0.15\n",
      "    Uninstalling thinc-8.0.15:\n",
      "      Successfully uninstalled thinc-8.0.15\n"
     ]
    },
    {
     "name": "stderr",
     "output_type": "stream",
     "text": [
      "ERROR: Could not install packages due to an OSError: [WinError 5] Access is denied: 'C:\\\\Users\\\\sukrav\\\\Anaconda3\\\\Lib\\\\site-packages\\\\~hinc\\\\backends\\\\linalg.cp38-win_amd64.pyd'\n",
      "Consider using the `--user` option or check the permissions.\n",
      "\n"
     ]
    }
   ],
   "source": [
    "!pip install -U spacy"
   ]
  },
  {
   "cell_type": "code",
   "execution_count": 7,
   "id": "40f5f677",
   "metadata": {
    "id": "40f5f677"
   },
   "outputs": [],
   "source": [
    "import spacy\n",
    "from nltk.stem import PorterStemmer"
   ]
  },
  {
   "cell_type": "code",
   "execution_count": 8,
   "id": "ac20b066",
   "metadata": {
    "colab": {
     "base_uri": "https://localhost:8080/"
    },
    "id": "ac20b066",
    "outputId": "dbfeceeb-df07-4c32-ac25-356dd92834e6"
   },
   "outputs": [
    {
     "name": "stdout",
     "output_type": "stream",
     "text": [
      "Requirement already satisfied: xgboost in c:\\users\\sukrav\\anaconda3\\lib\\site-packages (1.5.2)\n",
      "Requirement already satisfied: scipy in c:\\users\\sukrav\\anaconda3\\lib\\site-packages (from xgboost) (1.6.2)\n",
      "Requirement already satisfied: numpy in c:\\users\\sukrav\\anaconda3\\lib\\site-packages (from xgboost) (1.20.1)\n"
     ]
    }
   ],
   "source": [
    "!pip install xgboost"
   ]
  },
  {
   "cell_type": "code",
   "execution_count": 9,
   "id": "062be1b8",
   "metadata": {
    "id": "062be1b8"
   },
   "outputs": [],
   "source": [
    "nlp = spacy.load('en_core_web_lg')\n",
    "p_stemmer = PorterStemmer()"
   ]
  },
  {
   "cell_type": "markdown",
   "id": "24e1cfa2",
   "metadata": {
    "id": "24e1cfa2"
   },
   "source": [
    "## Reading the dataset"
   ]
  },
  {
   "cell_type": "code",
   "execution_count": 10,
   "id": "77726daf",
   "metadata": {},
   "outputs": [],
   "source": [
    "import os\n",
    "os.chdir(r\"C:\\Users\\sukrav\\Downloads\")"
   ]
  },
  {
   "cell_type": "code",
   "execution_count": 11,
   "id": "35faa4d9",
   "metadata": {
    "id": "35faa4d9",
    "scrolled": true
   },
   "outputs": [],
   "source": [
    "df_train=pd.read_csv(\"ghj.csv\")"
   ]
  },
  {
   "cell_type": "code",
   "execution_count": 12,
   "id": "5cdd6c51",
   "metadata": {
    "colab": {
     "base_uri": "https://localhost:8080/"
    },
    "id": "5cdd6c51",
    "outputId": "37000b2c-7a60-471d-9d95-3cfc9ff97d8a"
   },
   "outputs": [
    {
     "data": {
      "text/plain": [
       "(120000, 3)"
      ]
     },
     "execution_count": 12,
     "metadata": {},
     "output_type": "execute_result"
    }
   ],
   "source": [
    "df_train.shape"
   ]
  },
  {
   "cell_type": "code",
   "execution_count": 13,
   "id": "cb72b280",
   "metadata": {
    "id": "cb72b280"
   },
   "outputs": [],
   "source": [
    "df_train = df_train.sample(n=30000, random_state =1)"
   ]
  },
  {
   "cell_type": "code",
   "execution_count": 14,
   "id": "1d8b4bb8",
   "metadata": {
    "colab": {
     "base_uri": "https://localhost:8080/",
     "height": 206
    },
    "id": "1d8b4bb8",
    "outputId": "0451b3bf-7e03-4b5b-a8d6-c2608662aeed"
   },
   "outputs": [
    {
     "data": {
      "text/html": [
       "<div>\n",
       "<style scoped>\n",
       "    .dataframe tbody tr th:only-of-type {\n",
       "        vertical-align: middle;\n",
       "    }\n",
       "\n",
       "    .dataframe tbody tr th {\n",
       "        vertical-align: top;\n",
       "    }\n",
       "\n",
       "    .dataframe thead th {\n",
       "        text-align: right;\n",
       "    }\n",
       "</style>\n",
       "<table border=\"1\" class=\"dataframe\">\n",
       "  <thead>\n",
       "    <tr style=\"text-align: right;\">\n",
       "      <th></th>\n",
       "      <th>Class Index</th>\n",
       "      <th>Title</th>\n",
       "      <th>Description</th>\n",
       "    </tr>\n",
       "  </thead>\n",
       "  <tbody>\n",
       "    <tr>\n",
       "      <th>76467</th>\n",
       "      <td>4</td>\n",
       "      <td>BEA buzzing about Beehive</td>\n",
       "      <td>BURLINGAME, CALIF.-- BEA Systems is expanding ...</td>\n",
       "    </tr>\n",
       "    <tr>\n",
       "      <th>27991</th>\n",
       "      <td>3</td>\n",
       "      <td>Saudi Violence Pushes Oil Prices Higher</td>\n",
       "      <td>Oil prices were forced higher today by an outb...</td>\n",
       "    </tr>\n",
       "    <tr>\n",
       "      <th>62646</th>\n",
       "      <td>1</td>\n",
       "      <td>Storm shows Haiti #39;s straits</td>\n",
       "      <td>Muddy waters still occupied the heart of Gonai...</td>\n",
       "    </tr>\n",
       "    <tr>\n",
       "      <th>28374</th>\n",
       "      <td>4</td>\n",
       "      <td>Crews Fail to Find Tree-Killing Beetle (AP)</td>\n",
       "      <td>AP - Survey crews searching through woods and ...</td>\n",
       "    </tr>\n",
       "    <tr>\n",
       "      <th>98305</th>\n",
       "      <td>2</td>\n",
       "      <td>Justice Is Too Light</td>\n",
       "      <td>It's too bad Stern stopped at 30 games for Ron...</td>\n",
       "    </tr>\n",
       "  </tbody>\n",
       "</table>\n",
       "</div>"
      ],
      "text/plain": [
       "       Class Index                                        Title  \\\n",
       "76467            4                    BEA buzzing about Beehive   \n",
       "27991            3      Saudi Violence Pushes Oil Prices Higher   \n",
       "62646            1              Storm shows Haiti #39;s straits   \n",
       "28374            4  Crews Fail to Find Tree-Killing Beetle (AP)   \n",
       "98305            2                         Justice Is Too Light   \n",
       "\n",
       "                                             Description  \n",
       "76467  BURLINGAME, CALIF.-- BEA Systems is expanding ...  \n",
       "27991  Oil prices were forced higher today by an outb...  \n",
       "62646  Muddy waters still occupied the heart of Gonai...  \n",
       "28374  AP - Survey crews searching through woods and ...  \n",
       "98305  It's too bad Stern stopped at 30 games for Ron...  "
      ]
     },
     "execution_count": 14,
     "metadata": {},
     "output_type": "execute_result"
    }
   ],
   "source": [
    "df_train.head()"
   ]
  },
  {
   "cell_type": "code",
   "execution_count": 15,
   "id": "aac913e8",
   "metadata": {
    "id": "aac913e8"
   },
   "outputs": [],
   "source": [
    "df_train.reset_index(inplace = True, drop = True)"
   ]
  },
  {
   "cell_type": "code",
   "execution_count": 16,
   "id": "ad17406e",
   "metadata": {
    "colab": {
     "base_uri": "https://localhost:8080/"
    },
    "id": "ad17406e",
    "outputId": "e8574eb4-23ae-47ff-874b-8845eb5290a1"
   },
   "outputs": [
    {
     "data": {
      "text/plain": [
       "(30000, 3)"
      ]
     },
     "execution_count": 16,
     "metadata": {},
     "output_type": "execute_result"
    }
   ],
   "source": [
    "df_train.shape"
   ]
  },
  {
   "cell_type": "code",
   "execution_count": 17,
   "id": "2061a770",
   "metadata": {
    "colab": {
     "base_uri": "https://localhost:8080/",
     "height": 206
    },
    "id": "2061a770",
    "outputId": "d67b5b3e-d21c-466a-f6c4-2268b7bc5751"
   },
   "outputs": [
    {
     "data": {
      "text/html": [
       "<div>\n",
       "<style scoped>\n",
       "    .dataframe tbody tr th:only-of-type {\n",
       "        vertical-align: middle;\n",
       "    }\n",
       "\n",
       "    .dataframe tbody tr th {\n",
       "        vertical-align: top;\n",
       "    }\n",
       "\n",
       "    .dataframe thead th {\n",
       "        text-align: right;\n",
       "    }\n",
       "</style>\n",
       "<table border=\"1\" class=\"dataframe\">\n",
       "  <thead>\n",
       "    <tr style=\"text-align: right;\">\n",
       "      <th></th>\n",
       "      <th>Class Index</th>\n",
       "      <th>Title</th>\n",
       "      <th>Description</th>\n",
       "    </tr>\n",
       "  </thead>\n",
       "  <tbody>\n",
       "    <tr>\n",
       "      <th>0</th>\n",
       "      <td>4</td>\n",
       "      <td>BEA buzzing about Beehive</td>\n",
       "      <td>BURLINGAME, CALIF.-- BEA Systems is expanding ...</td>\n",
       "    </tr>\n",
       "    <tr>\n",
       "      <th>1</th>\n",
       "      <td>3</td>\n",
       "      <td>Saudi Violence Pushes Oil Prices Higher</td>\n",
       "      <td>Oil prices were forced higher today by an outb...</td>\n",
       "    </tr>\n",
       "    <tr>\n",
       "      <th>2</th>\n",
       "      <td>1</td>\n",
       "      <td>Storm shows Haiti #39;s straits</td>\n",
       "      <td>Muddy waters still occupied the heart of Gonai...</td>\n",
       "    </tr>\n",
       "    <tr>\n",
       "      <th>3</th>\n",
       "      <td>4</td>\n",
       "      <td>Crews Fail to Find Tree-Killing Beetle (AP)</td>\n",
       "      <td>AP - Survey crews searching through woods and ...</td>\n",
       "    </tr>\n",
       "    <tr>\n",
       "      <th>4</th>\n",
       "      <td>2</td>\n",
       "      <td>Justice Is Too Light</td>\n",
       "      <td>It's too bad Stern stopped at 30 games for Ron...</td>\n",
       "    </tr>\n",
       "  </tbody>\n",
       "</table>\n",
       "</div>"
      ],
      "text/plain": [
       "   Class Index                                        Title  \\\n",
       "0            4                    BEA buzzing about Beehive   \n",
       "1            3      Saudi Violence Pushes Oil Prices Higher   \n",
       "2            1              Storm shows Haiti #39;s straits   \n",
       "3            4  Crews Fail to Find Tree-Killing Beetle (AP)   \n",
       "4            2                         Justice Is Too Light   \n",
       "\n",
       "                                         Description  \n",
       "0  BURLINGAME, CALIF.-- BEA Systems is expanding ...  \n",
       "1  Oil prices were forced higher today by an outb...  \n",
       "2  Muddy waters still occupied the heart of Gonai...  \n",
       "3  AP - Survey crews searching through woods and ...  \n",
       "4  It's too bad Stern stopped at 30 games for Ron...  "
      ]
     },
     "execution_count": 17,
     "metadata": {},
     "output_type": "execute_result"
    }
   ],
   "source": [
    "df_train.head()"
   ]
  },
  {
   "cell_type": "markdown",
   "id": "98d864d5",
   "metadata": {
    "id": "98d864d5"
   },
   "source": [
    "## Checking for null values"
   ]
  },
  {
   "cell_type": "code",
   "execution_count": 18,
   "id": "1e2ad22a",
   "metadata": {
    "colab": {
     "base_uri": "https://localhost:8080/"
    },
    "id": "1e2ad22a",
    "outputId": "8cb61e7e-f1f6-405e-f04f-ef6ee13c7991"
   },
   "outputs": [
    {
     "data": {
      "text/plain": [
       "Class Index    0\n",
       "Title          0\n",
       "Description    0\n",
       "dtype: int64"
      ]
     },
     "execution_count": 18,
     "metadata": {},
     "output_type": "execute_result"
    }
   ],
   "source": [
    "df_train.isnull().sum()"
   ]
  },
  {
   "cell_type": "markdown",
   "id": "7de654eb",
   "metadata": {
    "id": "7de654eb"
   },
   "source": [
    "#### No null values found"
   ]
  },
  {
   "cell_type": "code",
   "execution_count": 19,
   "id": "808d317b",
   "metadata": {
    "colab": {
     "base_uri": "https://localhost:8080/"
    },
    "id": "808d317b",
    "outputId": "96e6948f-c669-43d8-fab2-017fa35ffb70"
   },
   "outputs": [
    {
     "name": "stdout",
     "output_type": "stream",
     "text": [
      "<class 'pandas.core.frame.DataFrame'>\n",
      "RangeIndex: 30000 entries, 0 to 29999\n",
      "Data columns (total 3 columns):\n",
      " #   Column       Non-Null Count  Dtype \n",
      "---  ------       --------------  ----- \n",
      " 0   Class Index  30000 non-null  int64 \n",
      " 1   Title        30000 non-null  object\n",
      " 2   Description  30000 non-null  object\n",
      "dtypes: int64(1), object(2)\n",
      "memory usage: 703.2+ KB\n"
     ]
    }
   ],
   "source": [
    "df_train.info()"
   ]
  },
  {
   "cell_type": "code",
   "execution_count": 20,
   "id": "4bcbb049",
   "metadata": {
    "id": "4bcbb049"
   },
   "outputs": [],
   "source": [
    "df_train['news'] = df_train['Title'] + ' '+  df_train['Description']"
   ]
  },
  {
   "cell_type": "code",
   "execution_count": 21,
   "id": "1eb78a5f",
   "metadata": {
    "colab": {
     "base_uri": "https://localhost:8080/",
     "height": 53
    },
    "id": "1eb78a5f",
    "outputId": "8e85dae5-8956-436a-da72-ac563341a7a6"
   },
   "outputs": [
    {
     "data": {
      "text/plain": [
       "'BEA buzzing about Beehive BURLINGAME, CALIF.-- BEA Systems is expanding the open source Beehive initiative but still has no plans to participate in the Eclipse open source tools organization, despite the embrace of Beehive by Eclipse.'"
      ]
     },
     "execution_count": 21,
     "metadata": {},
     "output_type": "execute_result"
    }
   ],
   "source": [
    "df_train['news'][0]"
   ]
  },
  {
   "cell_type": "code",
   "execution_count": 22,
   "id": "68104059",
   "metadata": {
    "colab": {
     "base_uri": "https://localhost:8080/",
     "height": 53
    },
    "id": "68104059",
    "outputId": "41aedbbc-c042-4496-9221-c883134fe798"
   },
   "outputs": [
    {
     "data": {
      "text/plain": [
       "'BURLINGAME, CALIF.-- BEA Systems is expanding the open source Beehive initiative but still has no plans to participate in the Eclipse open source tools organization, despite the embrace of Beehive by Eclipse.'"
      ]
     },
     "execution_count": 22,
     "metadata": {},
     "output_type": "execute_result"
    }
   ],
   "source": [
    "df_train['Description'][0]"
   ]
  },
  {
   "cell_type": "code",
   "execution_count": 23,
   "id": "d3189e04",
   "metadata": {
    "colab": {
     "base_uri": "https://localhost:8080/",
     "height": 206
    },
    "id": "d3189e04",
    "outputId": "5cd1b908-7811-45e9-b17a-98a1ca3cbddf"
   },
   "outputs": [
    {
     "data": {
      "text/html": [
       "<div>\n",
       "<style scoped>\n",
       "    .dataframe tbody tr th:only-of-type {\n",
       "        vertical-align: middle;\n",
       "    }\n",
       "\n",
       "    .dataframe tbody tr th {\n",
       "        vertical-align: top;\n",
       "    }\n",
       "\n",
       "    .dataframe thead th {\n",
       "        text-align: right;\n",
       "    }\n",
       "</style>\n",
       "<table border=\"1\" class=\"dataframe\">\n",
       "  <thead>\n",
       "    <tr style=\"text-align: right;\">\n",
       "      <th></th>\n",
       "      <th>Class Index</th>\n",
       "      <th>Title</th>\n",
       "      <th>Description</th>\n",
       "      <th>news</th>\n",
       "    </tr>\n",
       "  </thead>\n",
       "  <tbody>\n",
       "    <tr>\n",
       "      <th>0</th>\n",
       "      <td>4</td>\n",
       "      <td>BEA buzzing about Beehive</td>\n",
       "      <td>BURLINGAME, CALIF.-- BEA Systems is expanding ...</td>\n",
       "      <td>BEA buzzing about Beehive BURLINGAME, CALIF.--...</td>\n",
       "    </tr>\n",
       "    <tr>\n",
       "      <th>1</th>\n",
       "      <td>3</td>\n",
       "      <td>Saudi Violence Pushes Oil Prices Higher</td>\n",
       "      <td>Oil prices were forced higher today by an outb...</td>\n",
       "      <td>Saudi Violence Pushes Oil Prices Higher Oil pr...</td>\n",
       "    </tr>\n",
       "    <tr>\n",
       "      <th>2</th>\n",
       "      <td>1</td>\n",
       "      <td>Storm shows Haiti #39;s straits</td>\n",
       "      <td>Muddy waters still occupied the heart of Gonai...</td>\n",
       "      <td>Storm shows Haiti #39;s straits Muddy waters s...</td>\n",
       "    </tr>\n",
       "    <tr>\n",
       "      <th>3</th>\n",
       "      <td>4</td>\n",
       "      <td>Crews Fail to Find Tree-Killing Beetle (AP)</td>\n",
       "      <td>AP - Survey crews searching through woods and ...</td>\n",
       "      <td>Crews Fail to Find Tree-Killing Beetle (AP) AP...</td>\n",
       "    </tr>\n",
       "    <tr>\n",
       "      <th>4</th>\n",
       "      <td>2</td>\n",
       "      <td>Justice Is Too Light</td>\n",
       "      <td>It's too bad Stern stopped at 30 games for Ron...</td>\n",
       "      <td>Justice Is Too Light It's too bad Stern stoppe...</td>\n",
       "    </tr>\n",
       "  </tbody>\n",
       "</table>\n",
       "</div>"
      ],
      "text/plain": [
       "   Class Index                                        Title  \\\n",
       "0            4                    BEA buzzing about Beehive   \n",
       "1            3      Saudi Violence Pushes Oil Prices Higher   \n",
       "2            1              Storm shows Haiti #39;s straits   \n",
       "3            4  Crews Fail to Find Tree-Killing Beetle (AP)   \n",
       "4            2                         Justice Is Too Light   \n",
       "\n",
       "                                         Description  \\\n",
       "0  BURLINGAME, CALIF.-- BEA Systems is expanding ...   \n",
       "1  Oil prices were forced higher today by an outb...   \n",
       "2  Muddy waters still occupied the heart of Gonai...   \n",
       "3  AP - Survey crews searching through woods and ...   \n",
       "4  It's too bad Stern stopped at 30 games for Ron...   \n",
       "\n",
       "                                                news  \n",
       "0  BEA buzzing about Beehive BURLINGAME, CALIF.--...  \n",
       "1  Saudi Violence Pushes Oil Prices Higher Oil pr...  \n",
       "2  Storm shows Haiti #39;s straits Muddy waters s...  \n",
       "3  Crews Fail to Find Tree-Killing Beetle (AP) AP...  \n",
       "4  Justice Is Too Light It's too bad Stern stoppe...  "
      ]
     },
     "execution_count": 23,
     "metadata": {},
     "output_type": "execute_result"
    }
   ],
   "source": [
    "df_train.head()"
   ]
  },
  {
   "cell_type": "code",
   "execution_count": 24,
   "id": "c9fdf8ce",
   "metadata": {
    "colab": {
     "base_uri": "https://localhost:8080/"
    },
    "id": "c9fdf8ce",
    "outputId": "6e4ce859-f2aa-47cb-9467-2572e406f7e6"
   },
   "outputs": [
    {
     "data": {
      "text/plain": [
       "2    7568\n",
       "1    7509\n",
       "4    7471\n",
       "3    7452\n",
       "Name: Class Index, dtype: int64"
      ]
     },
     "execution_count": 24,
     "metadata": {},
     "output_type": "execute_result"
    }
   ],
   "source": [
    "df_train['Class Index'].value_counts()"
   ]
  },
  {
   "cell_type": "markdown",
   "id": "b5e63bf1",
   "metadata": {
    "id": "b5e63bf1"
   },
   "source": [
    "## EDA"
   ]
  },
  {
   "cell_type": "code",
   "execution_count": 25,
   "id": "46bb14de",
   "metadata": {
    "colab": {
     "base_uri": "https://localhost:8080/",
     "height": 296
    },
    "id": "46bb14de",
    "outputId": "cffa5b74-d668-47e6-e869-e3e8be7e9feb"
   },
   "outputs": [],
   "source": [
    "# sns.countplot(df_train['Class Index'])"
   ]
  },
  {
   "cell_type": "code",
   "execution_count": 26,
   "id": "349bb5ca",
   "metadata": {
    "colab": {
     "base_uri": "https://localhost:8080/",
     "height": 36
    },
    "id": "349bb5ca",
    "outputId": "101dd5e6-f735-42f7-9b20-43a83d5adbe7"
   },
   "outputs": [
    {
     "data": {
      "text/plain": [
       "\"O's Lose 10th Straight The A's use home runs by Erubiel Durazo and Eric Chavez to finish a four-game sweep of the crumbling Orioles, 9-4, on Thursday.\""
      ]
     },
     "execution_count": 26,
     "metadata": {},
     "output_type": "execute_result"
    }
   ],
   "source": [
    "df_train['news'][6]"
   ]
  },
  {
   "cell_type": "code",
   "execution_count": 27,
   "id": "fb74687e",
   "metadata": {
    "colab": {
     "base_uri": "https://localhost:8080/"
    },
    "id": "fb74687e",
    "outputId": "ebca0620-21cc-4e4a-81c9-3322b2ffce7f"
   },
   "outputs": [
    {
     "name": "stderr",
     "output_type": "stream",
     "text": [
      "[nltk_data] Downloading package stopwords to\n",
      "[nltk_data]     C:\\Users\\sukrav\\AppData\\Roaming\\nltk_data...\n",
      "[nltk_data]   Package stopwords is already up-to-date!\n"
     ]
    },
    {
     "data": {
      "text/plain": [
       "True"
      ]
     },
     "execution_count": 27,
     "metadata": {},
     "output_type": "execute_result"
    }
   ],
   "source": [
    "import nltk\n",
    "nltk.download('stopwords')"
   ]
  },
  {
   "cell_type": "code",
   "execution_count": 28,
   "id": "3ec35b47",
   "metadata": {
    "id": "3ec35b47"
   },
   "outputs": [],
   "source": [
    "from nltk.corpus import stopwords\n",
    "stop_words = set(stopwords.words('english'))"
   ]
  },
  {
   "cell_type": "code",
   "execution_count": 29,
   "id": "933b72d9",
   "metadata": {
    "id": "933b72d9"
   },
   "outputs": [],
   "source": [
    "# words=[]\n",
    "# for message in df_train['news']:\n",
    "#         for word in message.split():\n",
    "#             if word not in stop_words:\n",
    "#                 words.append(word)"
   ]
  },
  {
   "cell_type": "code",
   "execution_count": 30,
   "id": "fb5f2581",
   "metadata": {
    "colab": {
     "base_uri": "https://localhost:8080/",
     "height": 603
    },
    "id": "fb5f2581",
    "outputId": "c848dbb1-78c3-469f-e14e-c5ad220ee920"
   },
   "outputs": [],
   "source": [
    "# from wordcloud import WordCloud\n",
    "# wc = WordCloud(width=500,height=500,min_font_size=10,background_color='black').generate(str(words).strip())\n",
    "# plt.figure(figsize=(26,10))\n",
    "# plt.imshow(wc)\n",
    "# plt.title(' Most Common  Words',fontsize=30)\n",
    "# plt.axis('off')\n",
    "# plt.show()"
   ]
  },
  {
   "cell_type": "code",
   "execution_count": 31,
   "id": "70c7e6df",
   "metadata": {
    "colab": {
     "base_uri": "https://localhost:8080/"
    },
    "id": "70c7e6df",
    "outputId": "15e76ec2-3e7d-4074-8d43-870339f96ae2"
   },
   "outputs": [
    {
     "data": {
      "text/plain": [
       "array([4, 3, 1, 2], dtype=int64)"
      ]
     },
     "execution_count": 31,
     "metadata": {},
     "output_type": "execute_result"
    }
   ],
   "source": [
    "x= df_train['Class Index'].unique()\n",
    "x"
   ]
  },
  {
   "cell_type": "code",
   "execution_count": 32,
   "id": "be1ab8b8",
   "metadata": {
    "id": "be1ab8b8"
   },
   "outputs": [],
   "source": [
    "df_train['word_count'] = df_train['news'].apply(lambda x: len(str(x).split()))"
   ]
  },
  {
   "cell_type": "code",
   "execution_count": 33,
   "id": "35756aa7",
   "metadata": {
    "colab": {
     "base_uri": "https://localhost:8080/",
     "height": 795
    },
    "id": "35756aa7",
    "outputId": "b223c4fb-f915-43ac-a940-dbf989bd8a80"
   },
   "outputs": [],
   "source": [
    "# word_avg = df_train.groupby(df_train['Class Index'])['word_count'].mean().plot(kind='bar', figsize=(30,15))\n",
    "# plt.xlabel('Class Index', fontsize=35)\n",
    "# plt.ylabel('Count of Words for Class Index', fontsize=35)\n",
    "# plt.xticks(fontsize=40,rotation=0)\n",
    "# plt.yticks(fontsize=40)\n",
    "# plt.title('Average Number of Words per Class Index', fontsize=70)\n",
    "# plt.show()"
   ]
  },
  {
   "cell_type": "code",
   "execution_count": 34,
   "id": "e1e7ca8e",
   "metadata": {
    "colab": {
     "base_uri": "https://localhost:8080/"
    },
    "id": "e1e7ca8e",
    "outputId": "9e3c444d-e995-4bda-88ad-4233a11bc221"
   },
   "outputs": [
    {
     "data": {
      "text/plain": [
       "Class Index\n",
       "1    38.930617\n",
       "2    37.922040\n",
       "3    37.482958\n",
       "4    37.302905\n",
       "Name: word_count, dtype: float64"
      ]
     },
     "execution_count": 34,
     "metadata": {},
     "output_type": "execute_result"
    }
   ],
   "source": [
    "word_avg = df_train.groupby(df_train['Class Index'])['word_count'].mean()\n",
    "word_avg"
   ]
  },
  {
   "cell_type": "markdown",
   "id": "eece5244",
   "metadata": {
    "id": "eece5244"
   },
   "source": [
    "## Data Cleaning"
   ]
  },
  {
   "cell_type": "code",
   "execution_count": 35,
   "id": "befca751",
   "metadata": {
    "id": "befca751"
   },
   "outputs": [],
   "source": [
    "# to remove numbers/digits\n",
    "\n",
    "alphanumeric = lambda x: re.sub('\\w*\\d\\w*', ' ', x)\n",
    "df_train['news']=df_train['news'].map(alphanumeric)"
   ]
  },
  {
   "cell_type": "code",
   "execution_count": 36,
   "id": "acea71a4",
   "metadata": {
    "colab": {
     "base_uri": "https://localhost:8080/",
     "height": 53
    },
    "id": "acea71a4",
    "outputId": "5703c63e-8035-47ad-b0a8-e422a9e5bc00"
   },
   "outputs": [
    {
     "data": {
      "text/plain": [
       "'Storm shows Haiti # ;s straits Muddy waters still occupied the heart of Gonaives last weekend, three weeks after Tropical Storm Jeanne provoked flash floods that killed some  ,  and left   presumed dead.'"
      ]
     },
     "execution_count": 36,
     "metadata": {},
     "output_type": "execute_result"
    }
   ],
   "source": [
    "df_train['news'][2]"
   ]
  },
  {
   "cell_type": "markdown",
   "id": "6175561e",
   "metadata": {
    "id": "6175561e"
   },
   "source": [
    "### All the digits have been removed from the data"
   ]
  },
  {
   "cell_type": "code",
   "execution_count": 37,
   "id": "e5dc8032",
   "metadata": {
    "colab": {
     "base_uri": "https://localhost:8080/"
    },
    "id": "e5dc8032",
    "outputId": "dd56e529-4a98-4d9d-8eb4-4acd0cfb4b5c"
   },
   "outputs": [],
   "source": [
    "# #Tokenization\n",
    "# for i in df_train['news']:\n",
    "#     print(i.split())"
   ]
  },
  {
   "cell_type": "code",
   "execution_count": 38,
   "id": "3d27b247",
   "metadata": {
    "id": "3d27b247"
   },
   "outputs": [],
   "source": [
    "contractions_dict = { \"ain't\": \"are not\",\"'s\":\" is\",\"aren't\": \"are not\",\n",
    "                     \"can't\": \"cannot\",\"can't've\": \"cannot have\",\n",
    "                     \"'cause\": \"because\",\"could've\": \"could have\",\"couldn't\": \"could not\",\n",
    "                     \"couldn't've\": \"could not have\", \"didn't\": \"did not\",\"doesn't\": \"does not\",\n",
    "                     \"don't\": \"do not\",\"hadn't\": \"had not\",\"hadn't've\": \"had not have\",\n",
    "                     \"hasn't\": \"has not\",\"haven't\": \"have not\",\"he'd\": \"he would\",\n",
    "                     \"he'd've\": \"he would have\",\"he'll\": \"he will\", \"he'll've\": \"he will have\",\n",
    "                     \"how'd\": \"how did\",\"how'd'y\": \"how do you\",\"how'll\": \"how will\",\n",
    "                     \"I'd\": \"I would\", \"I'd've\": \"I would have\",\"I'll\": \"I will\",\n",
    "                     \"I'll've\": \"I will have\",\"I'm\": \"I am\",\"I've\": \"I have\", \"isn't\": \"is not\",\n",
    "                     \"it'd\": \"it would\",\"it'd've\": \"it would have\",\"it'll\": \"it will\",\n",
    "                     \"it'll've\": \"it will have\", \"let's\": \"let us\",\"ma'am\": \"madam\",\n",
    "                     \"mayn't\": \"may not\",\"might've\": \"might have\",\"mightn't\": \"might not\", \n",
    "                     \"mightn't've\": \"might not have\",\"must've\": \"must have\",\"mustn't\": \"must not\",\n",
    "                     \"mustn't've\": \"must not have\", \"needn't\": \"need not\",\n",
    "                     \"needn't've\": \"need not have\",\"o'clock\": \"of the clock\",\"oughtn't\": \"ought not\",\n",
    "                     \"oughtn't've\": \"ought not have\",\"shan't\": \"shall not\",\"sha'n't\": \"shall not\",\n",
    "                     \"shan't've\": \"shall not have\",\"she'd\": \"she would\",\"she'd've\": \"she would have\",\n",
    "                     \"she'll\": \"she will\", \"she'll've\": \"she will have\",\"should've\": \"should have\",\n",
    "                     \"shouldn't\": \"should not\", \"shouldn't've\": \"should not have\",\"so've\": \"so have\",\n",
    "                     \"that'd\": \"that would\",\"that'd've\": \"that would have\", \"there'd\": \"there would\",\n",
    "                     \"there'd've\": \"there would have\", \"they'd\": \"they would\",\n",
    "                     \"they'd've\": \"they would have\",\"they'll\": \"they will\",\n",
    "                     \"they'll've\": \"they will have\", \"they're\": \"they are\",\"they've\": \"they have\",\n",
    "                     \"to've\": \"to have\",\"wasn't\": \"was not\",\"we'd\": \"we would\",\n",
    "                     \"we'd've\": \"we would have\",\"we'll\": \"we will\",\"we'll've\": \"we will have\",\n",
    "                     \"we're\": \"we are\",\"we've\": \"we have\", \"weren't\": \"were not\",\"what'll\": \"what will\",\n",
    "                     \"what'll've\": \"what will have\",\"what're\": \"what are\", \"what've\": \"what have\",\n",
    "                     \"when've\": \"when have\",\"where'd\": \"where did\", \"where've\": \"where have\",\n",
    "                     \"who'll\": \"who will\",\"who'll've\": \"who will have\",\"who've\": \"who have\",\n",
    "                     \"why've\": \"why have\",\"will've\": \"will have\",\"won't\": \"will not\",\n",
    "                     \"won't've\": \"will not have\", \"would've\": \"would have\",\"wouldn't\": \"would not\",\n",
    "                     \"wouldn't've\": \"would not have\",\"y'all\": \"you all\", \"y'all'd\": \"you all would\",\n",
    "                     \"y'all'd've\": \"you all would have\",\"y'all're\": \"you all are\",\n",
    "                     \"y'all've\": \"you all have\", \"you'd\": \"you would\",\"you'd've\": \"you would have\",\n",
    "                     \"you'll\": \"you will\",\"you'll've\": \"you will have\", \"you're\": \"you are\",\n",
    "                     \"you've\": \"you have\"}\n",
    "\n",
    "# Regular expression for finding contractions\n",
    "contractions_re=re.compile('(%s)' % '|'.join(contractions_dict.keys()))\n",
    "\n",
    "# Function for expanding contractions\n",
    "def expand_contractions(text,contractions_dict=contractions_dict):\n",
    "  def replace(match):\n",
    "    return contractions_dict[match.group(0)]\n",
    "  return contractions_re.sub(replace, text)\n",
    "\n",
    "# Expanding Contractions in the news data\n",
    "df_train['news']=df_train['news'].apply(lambda x:expand_contractions(x))"
   ]
  },
  {
   "cell_type": "code",
   "execution_count": 39,
   "id": "84161d9e",
   "metadata": {
    "id": "84161d9e"
   },
   "outputs": [],
   "source": [
    "# converting to lower case\n",
    "df_train['cleaned']=df_train['news'].apply(lambda x: x.lower())"
   ]
  },
  {
   "cell_type": "code",
   "execution_count": 40,
   "id": "118d4a95",
   "metadata": {
    "colab": {
     "base_uri": "https://localhost:8080/",
     "height": 53
    },
    "id": "118d4a95",
    "outputId": "40369ff5-02cc-4fa2-df6d-4ce9d362edd8"
   },
   "outputs": [
    {
     "data": {
      "text/plain": [
       "'storm shows haiti # ;s straits muddy waters still occupied the heart of gonaives last weekend, three weeks after tropical storm jeanne provoked flash floods that killed some  ,  and left   presumed dead.'"
      ]
     },
     "execution_count": 40,
     "metadata": {},
     "output_type": "execute_result"
    }
   ],
   "source": [
    "df_train['cleaned'][2]"
   ]
  },
  {
   "cell_type": "code",
   "execution_count": 41,
   "id": "af337f24",
   "metadata": {
    "id": "af337f24"
   },
   "outputs": [],
   "source": [
    "# remove digits\n",
    "df_train['cleaned']=df_train['cleaned'].apply(lambda x: re.sub('\\w*\\d\\w*','', x))"
   ]
  },
  {
   "cell_type": "code",
   "execution_count": 42,
   "id": "07c0b2ab",
   "metadata": {
    "id": "07c0b2ab"
   },
   "outputs": [],
   "source": [
    "# remove punctuations\n",
    "df_train['cleaned']=df_train['cleaned'].apply(lambda x: re.sub('[%s]' % re.escape(string.punctuation), '', x))"
   ]
  },
  {
   "cell_type": "code",
   "execution_count": 43,
   "id": "95d03c73",
   "metadata": {
    "colab": {
     "base_uri": "https://localhost:8080/",
     "height": 36
    },
    "id": "95d03c73",
    "outputId": "e865484f-b558-48b7-bae6-6be4a4a1d434"
   },
   "outputs": [
    {
     "data": {
      "text/plain": [
       "'o is lose   straight the a is use home runs by erubiel durazo and eric chavez to finish a fourgame sweep of the crumbling orioles    on thursday'"
      ]
     },
     "execution_count": 43,
     "metadata": {},
     "output_type": "execute_result"
    }
   ],
   "source": [
    "df_train['cleaned'][6]"
   ]
  },
  {
   "cell_type": "code",
   "execution_count": 44,
   "id": "d8a3c110",
   "metadata": {
    "id": "d8a3c110"
   },
   "outputs": [],
   "source": [
    "# Removing extra spaces\n",
    "df_train['cleaned']=df_train['cleaned'].apply(lambda x: re.sub(' +','',x))"
   ]
  },
  {
   "cell_type": "code",
   "execution_count": 45,
   "id": "87b08857",
   "metadata": {
    "colab": {
     "base_uri": "https://localhost:8080/",
     "height": 36
    },
    "id": "87b08857",
    "outputId": "6dc08f64-6f87-4b2f-bb50-7c92f4564eb5"
   },
   "outputs": [
    {
     "data": {
      "text/plain": [
       "'o is lose straight the a is use home runs by erubiel durazo and eric chavez to finish a fourgame sweep of the crumbling orioles on thursday'"
      ]
     },
     "execution_count": 45,
     "metadata": {},
     "output_type": "execute_result"
    }
   ],
   "source": [
    "df_train['cleaned'][6]"
   ]
  },
  {
   "cell_type": "code",
   "execution_count": 46,
   "id": "c404eae8",
   "metadata": {
    "colab": {
     "base_uri": "https://localhost:8080/"
    },
    "id": "c404eae8",
    "outputId": "7a9eb0bb-eb5c-4f28-f1ad-09914248f8fb"
   },
   "outputs": [
    {
     "name": "stdout",
     "output_type": "stream",
     "text": [
      "News 1:\n",
      " yankees still pondering the enigmatic brown yankees pitcher kevin brown was more animated than usual on the eve of the start that could turn his misguided september punch into an almost amusing memory\n",
      "News 2:\n",
      " unrest is stirring among chinese factory workers dongguan china heralded by an unprecedented series of walkouts the first stirrings of unrest have emerged among the millions of youthful migrant workers who supply seemingly inexhaustible cheap labor for the vast expanse of factories in china is booming pearl river delta\n",
      "News 3:\n",
      " update cirrus logic cuts percent of staff cirrus logic inc cruso quote profile research a maker of microchips for consumer electronics and other applications on wednesday said it had cut its work force by \n",
      "News 4:\n",
      " death demanded for south african mercenary in e guinea coup bid malabo the prosecutor in the case of south african alleged mercenary leader nick du toit who has admitted a limited role in a coup bid in equatorial guinea called for him to be sentenced to death\n",
      "News 5:\n",
      " pioneering mccaw at epicenter of cell deals the announced union of sprint and nextel communications yesterday marked the second megadeal in the wireless industry this year and the second involving a life change for a craig mccawbuilt venture\n"
     ]
    }
   ],
   "source": [
    "for index,text in enumerate(df_train['cleaned'][450:455]):\n",
    "  print('News %d:\\n'%(index+1),text)"
   ]
  },
  {
   "cell_type": "code",
   "execution_count": 47,
   "id": "386f8243",
   "metadata": {
    "colab": {
     "base_uri": "https://localhost:8080/"
    },
    "id": "386f8243",
    "outputId": "2c92210f-9536-4dcb-dab8-dae9daa347f9"
   },
   "outputs": [
    {
     "data": {
      "text/plain": [
       "30000"
      ]
     },
     "execution_count": 47,
     "metadata": {},
     "output_type": "execute_result"
    }
   ],
   "source": [
    "len(df_train['cleaned']) "
   ]
  },
  {
   "cell_type": "code",
   "execution_count": 48,
   "id": "cd6f6cc7",
   "metadata": {
    "colab": {
     "base_uri": "https://localhost:8080/"
    },
    "id": "cd6f6cc7",
    "outputId": "8f234fcc-4388-4d5d-cb8a-b99985e40269"
   },
   "outputs": [
    {
     "name": "stdout",
     "output_type": "stream",
     "text": [
      "<class 'pandas.core.frame.DataFrame'>\n",
      "RangeIndex: 30000 entries, 0 to 29999\n",
      "Data columns (total 6 columns):\n",
      " #   Column       Non-Null Count  Dtype \n",
      "---  ------       --------------  ----- \n",
      " 0   Class Index  30000 non-null  int64 \n",
      " 1   Title        30000 non-null  object\n",
      " 2   Description  30000 non-null  object\n",
      " 3   news         30000 non-null  object\n",
      " 4   word_count   30000 non-null  int64 \n",
      " 5   cleaned      30000 non-null  object\n",
      "dtypes: int64(2), object(4)\n",
      "memory usage: 1.4+ MB\n"
     ]
    }
   ],
   "source": [
    "df_train.info()"
   ]
  },
  {
   "cell_type": "code",
   "execution_count": 49,
   "id": "33366724",
   "metadata": {
    "colab": {
     "base_uri": "https://localhost:8080/"
    },
    "id": "33366724",
    "outputId": "4aea5a68-d58f-4d01-f7b8-7daee5600f0e"
   },
   "outputs": [
    {
     "name": "stderr",
     "output_type": "stream",
     "text": [
      "100%|████████████████████████████████████████████████████████████████████████| 30000/30000 [00:00<00:00, 978278.53it/s]"
     ]
    },
    {
     "name": "stdout",
     "output_type": "stream",
     "text": [
      "processing time : 0.000000 sec\n"
     ]
    },
    {
     "name": "stderr",
     "output_type": "stream",
     "text": [
      "\n"
     ]
    }
   ],
   "source": [
    " t0 = time()\n",
    "t= time() - t0\n",
    "\n",
    "# Lemmatization with stopwords removal\n",
    "df_train['lemmatized']=tqdm(df_train['cleaned'].apply(lambda x: ' '.join([token.lemma_ for token in list(nlp(x)) if (token.is_stop==False)])))\n",
    "print (f'processing time : {t:2f} sec')"
   ]
  },
  {
   "cell_type": "code",
   "execution_count": 50,
   "id": "b3676797",
   "metadata": {
    "colab": {
     "base_uri": "https://localhost:8080/",
     "height": 36
    },
    "id": "b3676797",
    "outputId": "106c9891-ae3c-4e46-a111-fd15ce2c294d"
   },
   "outputs": [
    {
     "data": {
      "text/plain": [
       "0     bea buzzing beehive burlingame calif bea syste...\n",
       "1     saudi violence push oil price high oil price f...\n",
       "2     storm show haiti s straits muddy water occupy ...\n",
       "3     crew fail find treekille beetle ap ap survey c...\n",
       "4     justice light bad stern stop game ron artest i...\n",
       "                            ...                        \n",
       "67    fox join bluray group com october pt twentieth...\n",
       "68    davenport win germany lindsay davenport win to...\n",
       "69    opec vote lift output aim ease fear opec minis...\n",
       "70    black widow revenge terror bombing airliner ru...\n",
       "71    james young score lebron james score point you...\n",
       "Name: lemmatized, Length: 72, dtype: object"
      ]
     },
     "execution_count": 50,
     "metadata": {},
     "output_type": "execute_result"
    }
   ],
   "source": [
    "df_train['lemmatized'][:72]"
   ]
  },
  {
   "cell_type": "code",
   "execution_count": 51,
   "id": "1385282c",
   "metadata": {
    "colab": {
     "base_uri": "https://localhost:8080/",
     "height": 354
    },
    "id": "1385282c",
    "outputId": "e1d59499-5709-45d3-d3b9-3614c02edc81"
   },
   "outputs": [
    {
     "data": {
      "text/html": [
       "<div>\n",
       "<style scoped>\n",
       "    .dataframe tbody tr th:only-of-type {\n",
       "        vertical-align: middle;\n",
       "    }\n",
       "\n",
       "    .dataframe tbody tr th {\n",
       "        vertical-align: top;\n",
       "    }\n",
       "\n",
       "    .dataframe thead th {\n",
       "        text-align: right;\n",
       "    }\n",
       "</style>\n",
       "<table border=\"1\" class=\"dataframe\">\n",
       "  <thead>\n",
       "    <tr style=\"text-align: right;\">\n",
       "      <th></th>\n",
       "      <th>Class Index</th>\n",
       "      <th>Title</th>\n",
       "      <th>Description</th>\n",
       "      <th>news</th>\n",
       "      <th>word_count</th>\n",
       "      <th>cleaned</th>\n",
       "      <th>lemmatized</th>\n",
       "    </tr>\n",
       "  </thead>\n",
       "  <tbody>\n",
       "    <tr>\n",
       "      <th>0</th>\n",
       "      <td>4</td>\n",
       "      <td>BEA buzzing about Beehive</td>\n",
       "      <td>BURLINGAME, CALIF.-- BEA Systems is expanding ...</td>\n",
       "      <td>BEA buzzing about Beehive BURLINGAME, CALIF.--...</td>\n",
       "      <td>36</td>\n",
       "      <td>bea buzzing about beehive burlingame calif bea...</td>\n",
       "      <td>bea buzzing beehive burlingame calif bea syste...</td>\n",
       "    </tr>\n",
       "    <tr>\n",
       "      <th>1</th>\n",
       "      <td>3</td>\n",
       "      <td>Saudi Violence Pushes Oil Prices Higher</td>\n",
       "      <td>Oil prices were forced higher today by an outb...</td>\n",
       "      <td>Saudi Violence Pushes Oil Prices Higher Oil pr...</td>\n",
       "      <td>38</td>\n",
       "      <td>saudi violence pushes oil prices higher oil pr...</td>\n",
       "      <td>saudi violence push oil price high oil price f...</td>\n",
       "    </tr>\n",
       "    <tr>\n",
       "      <th>2</th>\n",
       "      <td>1</td>\n",
       "      <td>Storm shows Haiti #39;s straits</td>\n",
       "      <td>Muddy waters still occupied the heart of Gonai...</td>\n",
       "      <td>Storm shows Haiti # ;s straits Muddy waters st...</td>\n",
       "      <td>33</td>\n",
       "      <td>storm shows haiti s straits muddy waters still...</td>\n",
       "      <td>storm show haiti s straits muddy water occupy ...</td>\n",
       "    </tr>\n",
       "    <tr>\n",
       "      <th>3</th>\n",
       "      <td>4</td>\n",
       "      <td>Crews Fail to Find Tree-Killing Beetle (AP)</td>\n",
       "      <td>AP - Survey crews searching through woods and ...</td>\n",
       "      <td>Crews Fail to Find Tree-Killing Beetle (AP) AP...</td>\n",
       "      <td>43</td>\n",
       "      <td>crews fail to find treekilling beetle ap ap su...</td>\n",
       "      <td>crew fail find treekille beetle ap ap survey c...</td>\n",
       "    </tr>\n",
       "    <tr>\n",
       "      <th>4</th>\n",
       "      <td>2</td>\n",
       "      <td>Justice Is Too Light</td>\n",
       "      <td>It's too bad Stern stopped at 30 games for Ron...</td>\n",
       "      <td>Justice Is Too Light It is too bad Stern stopp...</td>\n",
       "      <td>32</td>\n",
       "      <td>justice is too light it is too bad stern stopp...</td>\n",
       "      <td>justice light bad stern stop game ron artest i...</td>\n",
       "    </tr>\n",
       "  </tbody>\n",
       "</table>\n",
       "</div>"
      ],
      "text/plain": [
       "   Class Index                                        Title  \\\n",
       "0            4                    BEA buzzing about Beehive   \n",
       "1            3      Saudi Violence Pushes Oil Prices Higher   \n",
       "2            1              Storm shows Haiti #39;s straits   \n",
       "3            4  Crews Fail to Find Tree-Killing Beetle (AP)   \n",
       "4            2                         Justice Is Too Light   \n",
       "\n",
       "                                         Description  \\\n",
       "0  BURLINGAME, CALIF.-- BEA Systems is expanding ...   \n",
       "1  Oil prices were forced higher today by an outb...   \n",
       "2  Muddy waters still occupied the heart of Gonai...   \n",
       "3  AP - Survey crews searching through woods and ...   \n",
       "4  It's too bad Stern stopped at 30 games for Ron...   \n",
       "\n",
       "                                                news  word_count  \\\n",
       "0  BEA buzzing about Beehive BURLINGAME, CALIF.--...          36   \n",
       "1  Saudi Violence Pushes Oil Prices Higher Oil pr...          38   \n",
       "2  Storm shows Haiti # ;s straits Muddy waters st...          33   \n",
       "3  Crews Fail to Find Tree-Killing Beetle (AP) AP...          43   \n",
       "4  Justice Is Too Light It is too bad Stern stopp...          32   \n",
       "\n",
       "                                             cleaned  \\\n",
       "0  bea buzzing about beehive burlingame calif bea...   \n",
       "1  saudi violence pushes oil prices higher oil pr...   \n",
       "2  storm shows haiti s straits muddy waters still...   \n",
       "3  crews fail to find treekilling beetle ap ap su...   \n",
       "4  justice is too light it is too bad stern stopp...   \n",
       "\n",
       "                                          lemmatized  \n",
       "0  bea buzzing beehive burlingame calif bea syste...  \n",
       "1  saudi violence push oil price high oil price f...  \n",
       "2  storm show haiti s straits muddy water occupy ...  \n",
       "3  crew fail find treekille beetle ap ap survey c...  \n",
       "4  justice light bad stern stop game ron artest i...  "
      ]
     },
     "execution_count": 51,
     "metadata": {},
     "output_type": "execute_result"
    }
   ],
   "source": [
    "df_train.head()"
   ]
  },
  {
   "cell_type": "code",
   "execution_count": 52,
   "id": "424a4b73",
   "metadata": {
    "id": "424a4b73"
   },
   "outputs": [],
   "source": [
    "from nltk.corpus import stopwords\n",
    "stop_words = set(stopwords.words('english'))"
   ]
  },
  {
   "cell_type": "code",
   "execution_count": 96,
   "id": "6a488cde",
   "metadata": {
    "colab": {
     "base_uri": "https://localhost:8080/",
     "height": 392
    },
    "id": "6a488cde",
    "outputId": "6fc2d626-e20a-4e36-9038-aaf31b3d9f1e"
   },
   "outputs": [
    {
     "data": {
      "text/html": [
       "<div>\n",
       "<style scoped>\n",
       "    .dataframe tbody tr th:only-of-type {\n",
       "        vertical-align: middle;\n",
       "    }\n",
       "\n",
       "    .dataframe tbody tr th {\n",
       "        vertical-align: top;\n",
       "    }\n",
       "\n",
       "    .dataframe thead th {\n",
       "        text-align: right;\n",
       "    }\n",
       "</style>\n",
       "<table border=\"1\" class=\"dataframe\">\n",
       "  <thead>\n",
       "    <tr style=\"text-align: right;\">\n",
       "      <th></th>\n",
       "      <th>aaron</th>\n",
       "      <th>abandon</th>\n",
       "      <th>abbas</th>\n",
       "      <th>abbey</th>\n",
       "      <th>abbey national</th>\n",
       "      <th>abc</th>\n",
       "      <th>abduct</th>\n",
       "      <th>ability</th>\n",
       "      <th>able</th>\n",
       "      <th>aboard</th>\n",
       "      <th>...</th>\n",
       "      <th>yukos</th>\n",
       "      <th>yushchenko</th>\n",
       "      <th>zarqawi</th>\n",
       "      <th>zealand</th>\n",
       "      <th>ziff</th>\n",
       "      <th>ziff davis</th>\n",
       "      <th>zimbabwe</th>\n",
       "      <th>zone</th>\n",
       "      <th>zook</th>\n",
       "      <th>zurich</th>\n",
       "    </tr>\n",
       "  </thead>\n",
       "  <tbody>\n",
       "    <tr>\n",
       "      <th>0</th>\n",
       "      <td>0.0</td>\n",
       "      <td>0.0</td>\n",
       "      <td>0.0</td>\n",
       "      <td>0.0</td>\n",
       "      <td>0.0</td>\n",
       "      <td>0.0</td>\n",
       "      <td>0.0</td>\n",
       "      <td>0.0</td>\n",
       "      <td>0.0</td>\n",
       "      <td>0.0</td>\n",
       "      <td>...</td>\n",
       "      <td>0.0</td>\n",
       "      <td>0.0</td>\n",
       "      <td>0.0</td>\n",
       "      <td>0.0</td>\n",
       "      <td>0.0</td>\n",
       "      <td>0.0</td>\n",
       "      <td>0.0</td>\n",
       "      <td>0.0</td>\n",
       "      <td>0.0</td>\n",
       "      <td>0.0</td>\n",
       "    </tr>\n",
       "    <tr>\n",
       "      <th>1</th>\n",
       "      <td>0.0</td>\n",
       "      <td>0.0</td>\n",
       "      <td>0.0</td>\n",
       "      <td>0.0</td>\n",
       "      <td>0.0</td>\n",
       "      <td>0.0</td>\n",
       "      <td>0.0</td>\n",
       "      <td>0.0</td>\n",
       "      <td>0.0</td>\n",
       "      <td>0.0</td>\n",
       "      <td>...</td>\n",
       "      <td>0.0</td>\n",
       "      <td>0.0</td>\n",
       "      <td>0.0</td>\n",
       "      <td>0.0</td>\n",
       "      <td>0.0</td>\n",
       "      <td>0.0</td>\n",
       "      <td>0.0</td>\n",
       "      <td>0.0</td>\n",
       "      <td>0.0</td>\n",
       "      <td>0.0</td>\n",
       "    </tr>\n",
       "    <tr>\n",
       "      <th>2</th>\n",
       "      <td>0.0</td>\n",
       "      <td>0.0</td>\n",
       "      <td>0.0</td>\n",
       "      <td>0.0</td>\n",
       "      <td>0.0</td>\n",
       "      <td>0.0</td>\n",
       "      <td>0.0</td>\n",
       "      <td>0.0</td>\n",
       "      <td>0.0</td>\n",
       "      <td>0.0</td>\n",
       "      <td>...</td>\n",
       "      <td>0.0</td>\n",
       "      <td>0.0</td>\n",
       "      <td>0.0</td>\n",
       "      <td>0.0</td>\n",
       "      <td>0.0</td>\n",
       "      <td>0.0</td>\n",
       "      <td>0.0</td>\n",
       "      <td>0.0</td>\n",
       "      <td>0.0</td>\n",
       "      <td>0.0</td>\n",
       "    </tr>\n",
       "    <tr>\n",
       "      <th>3</th>\n",
       "      <td>0.0</td>\n",
       "      <td>0.0</td>\n",
       "      <td>0.0</td>\n",
       "      <td>0.0</td>\n",
       "      <td>0.0</td>\n",
       "      <td>0.0</td>\n",
       "      <td>0.0</td>\n",
       "      <td>0.0</td>\n",
       "      <td>0.0</td>\n",
       "      <td>0.0</td>\n",
       "      <td>...</td>\n",
       "      <td>0.0</td>\n",
       "      <td>0.0</td>\n",
       "      <td>0.0</td>\n",
       "      <td>0.0</td>\n",
       "      <td>0.0</td>\n",
       "      <td>0.0</td>\n",
       "      <td>0.0</td>\n",
       "      <td>0.0</td>\n",
       "      <td>0.0</td>\n",
       "      <td>0.0</td>\n",
       "    </tr>\n",
       "    <tr>\n",
       "      <th>4</th>\n",
       "      <td>0.0</td>\n",
       "      <td>0.0</td>\n",
       "      <td>0.0</td>\n",
       "      <td>0.0</td>\n",
       "      <td>0.0</td>\n",
       "      <td>0.0</td>\n",
       "      <td>0.0</td>\n",
       "      <td>0.0</td>\n",
       "      <td>0.0</td>\n",
       "      <td>0.0</td>\n",
       "      <td>...</td>\n",
       "      <td>0.0</td>\n",
       "      <td>0.0</td>\n",
       "      <td>0.0</td>\n",
       "      <td>0.0</td>\n",
       "      <td>0.0</td>\n",
       "      <td>0.0</td>\n",
       "      <td>0.0</td>\n",
       "      <td>0.0</td>\n",
       "      <td>0.0</td>\n",
       "      <td>0.0</td>\n",
       "    </tr>\n",
       "    <tr>\n",
       "      <th>5</th>\n",
       "      <td>0.0</td>\n",
       "      <td>0.0</td>\n",
       "      <td>0.0</td>\n",
       "      <td>0.0</td>\n",
       "      <td>0.0</td>\n",
       "      <td>0.0</td>\n",
       "      <td>0.0</td>\n",
       "      <td>0.0</td>\n",
       "      <td>0.0</td>\n",
       "      <td>0.0</td>\n",
       "      <td>...</td>\n",
       "      <td>0.0</td>\n",
       "      <td>0.0</td>\n",
       "      <td>0.0</td>\n",
       "      <td>0.0</td>\n",
       "      <td>0.0</td>\n",
       "      <td>0.0</td>\n",
       "      <td>0.0</td>\n",
       "      <td>0.0</td>\n",
       "      <td>0.0</td>\n",
       "      <td>0.0</td>\n",
       "    </tr>\n",
       "    <tr>\n",
       "      <th>6</th>\n",
       "      <td>0.0</td>\n",
       "      <td>0.0</td>\n",
       "      <td>0.0</td>\n",
       "      <td>0.0</td>\n",
       "      <td>0.0</td>\n",
       "      <td>0.0</td>\n",
       "      <td>0.0</td>\n",
       "      <td>0.0</td>\n",
       "      <td>0.0</td>\n",
       "      <td>0.0</td>\n",
       "      <td>...</td>\n",
       "      <td>0.0</td>\n",
       "      <td>0.0</td>\n",
       "      <td>0.0</td>\n",
       "      <td>0.0</td>\n",
       "      <td>0.0</td>\n",
       "      <td>0.0</td>\n",
       "      <td>0.0</td>\n",
       "      <td>0.0</td>\n",
       "      <td>0.0</td>\n",
       "      <td>0.0</td>\n",
       "    </tr>\n",
       "    <tr>\n",
       "      <th>7</th>\n",
       "      <td>0.0</td>\n",
       "      <td>0.0</td>\n",
       "      <td>0.0</td>\n",
       "      <td>0.0</td>\n",
       "      <td>0.0</td>\n",
       "      <td>0.0</td>\n",
       "      <td>0.0</td>\n",
       "      <td>0.0</td>\n",
       "      <td>0.0</td>\n",
       "      <td>0.0</td>\n",
       "      <td>...</td>\n",
       "      <td>0.0</td>\n",
       "      <td>0.0</td>\n",
       "      <td>0.0</td>\n",
       "      <td>0.0</td>\n",
       "      <td>0.0</td>\n",
       "      <td>0.0</td>\n",
       "      <td>0.0</td>\n",
       "      <td>0.0</td>\n",
       "      <td>0.0</td>\n",
       "      <td>0.0</td>\n",
       "    </tr>\n",
       "    <tr>\n",
       "      <th>8</th>\n",
       "      <td>0.0</td>\n",
       "      <td>0.0</td>\n",
       "      <td>0.0</td>\n",
       "      <td>0.0</td>\n",
       "      <td>0.0</td>\n",
       "      <td>0.0</td>\n",
       "      <td>0.0</td>\n",
       "      <td>0.0</td>\n",
       "      <td>0.0</td>\n",
       "      <td>0.0</td>\n",
       "      <td>...</td>\n",
       "      <td>0.0</td>\n",
       "      <td>0.0</td>\n",
       "      <td>0.0</td>\n",
       "      <td>0.0</td>\n",
       "      <td>0.0</td>\n",
       "      <td>0.0</td>\n",
       "      <td>0.0</td>\n",
       "      <td>0.0</td>\n",
       "      <td>0.0</td>\n",
       "      <td>0.0</td>\n",
       "    </tr>\n",
       "    <tr>\n",
       "      <th>9</th>\n",
       "      <td>0.0</td>\n",
       "      <td>0.0</td>\n",
       "      <td>0.0</td>\n",
       "      <td>0.0</td>\n",
       "      <td>0.0</td>\n",
       "      <td>0.0</td>\n",
       "      <td>0.0</td>\n",
       "      <td>0.0</td>\n",
       "      <td>0.0</td>\n",
       "      <td>0.0</td>\n",
       "      <td>...</td>\n",
       "      <td>0.0</td>\n",
       "      <td>0.0</td>\n",
       "      <td>0.0</td>\n",
       "      <td>0.0</td>\n",
       "      <td>0.0</td>\n",
       "      <td>0.0</td>\n",
       "      <td>0.0</td>\n",
       "      <td>0.0</td>\n",
       "      <td>0.0</td>\n",
       "      <td>0.0</td>\n",
       "    </tr>\n",
       "  </tbody>\n",
       "</table>\n",
       "<p>10 rows × 6708 columns</p>\n",
       "</div>"
      ],
      "text/plain": [
       "   aaron  abandon  abbas  abbey  abbey national  abc  abduct  ability  able  \\\n",
       "0    0.0      0.0    0.0    0.0             0.0  0.0     0.0      0.0   0.0   \n",
       "1    0.0      0.0    0.0    0.0             0.0  0.0     0.0      0.0   0.0   \n",
       "2    0.0      0.0    0.0    0.0             0.0  0.0     0.0      0.0   0.0   \n",
       "3    0.0      0.0    0.0    0.0             0.0  0.0     0.0      0.0   0.0   \n",
       "4    0.0      0.0    0.0    0.0             0.0  0.0     0.0      0.0   0.0   \n",
       "5    0.0      0.0    0.0    0.0             0.0  0.0     0.0      0.0   0.0   \n",
       "6    0.0      0.0    0.0    0.0             0.0  0.0     0.0      0.0   0.0   \n",
       "7    0.0      0.0    0.0    0.0             0.0  0.0     0.0      0.0   0.0   \n",
       "8    0.0      0.0    0.0    0.0             0.0  0.0     0.0      0.0   0.0   \n",
       "9    0.0      0.0    0.0    0.0             0.0  0.0     0.0      0.0   0.0   \n",
       "\n",
       "   aboard  ...  yukos  yushchenko  zarqawi  zealand  ziff  ziff davis  \\\n",
       "0     0.0  ...    0.0         0.0      0.0      0.0   0.0         0.0   \n",
       "1     0.0  ...    0.0         0.0      0.0      0.0   0.0         0.0   \n",
       "2     0.0  ...    0.0         0.0      0.0      0.0   0.0         0.0   \n",
       "3     0.0  ...    0.0         0.0      0.0      0.0   0.0         0.0   \n",
       "4     0.0  ...    0.0         0.0      0.0      0.0   0.0         0.0   \n",
       "5     0.0  ...    0.0         0.0      0.0      0.0   0.0         0.0   \n",
       "6     0.0  ...    0.0         0.0      0.0      0.0   0.0         0.0   \n",
       "7     0.0  ...    0.0         0.0      0.0      0.0   0.0         0.0   \n",
       "8     0.0  ...    0.0         0.0      0.0      0.0   0.0         0.0   \n",
       "9     0.0  ...    0.0         0.0      0.0      0.0   0.0         0.0   \n",
       "\n",
       "   zimbabwe  zone  zook  zurich  \n",
       "0       0.0   0.0   0.0     0.0  \n",
       "1       0.0   0.0   0.0     0.0  \n",
       "2       0.0   0.0   0.0     0.0  \n",
       "3       0.0   0.0   0.0     0.0  \n",
       "4       0.0   0.0   0.0     0.0  \n",
       "5       0.0   0.0   0.0     0.0  \n",
       "6       0.0   0.0   0.0     0.0  \n",
       "7       0.0   0.0   0.0     0.0  \n",
       "8       0.0   0.0   0.0     0.0  \n",
       "9       0.0   0.0   0.0     0.0  \n",
       "\n",
       "[10 rows x 6708 columns]"
      ]
     },
     "execution_count": 96,
     "metadata": {},
     "output_type": "execute_result"
    }
   ],
   "source": [
    "# Creating Document Term Matrix\n",
    "from sklearn.feature_extraction.text import TfidfVectorizer\n",
    "TfidfVectorizer=TfidfVectorizer(analyzer='word', max_features=6708, stop_words=stop_words, ngram_range=(1,2))\n",
    "data=TfidfVectorizer.fit_transform(df_train['lemmatized'])\n",
    "df_dtm = pd.DataFrame(data.toarray(), columns=TfidfVectorizer.get_feature_names())\n",
    "df_dtm.index=df_train.index\n",
    "df_dtm.head(10)"
   ]
  },
  {
   "cell_type": "code",
   "execution_count": 54,
   "id": "050eaca8",
   "metadata": {
    "colab": {
     "base_uri": "https://localhost:8080/"
    },
    "id": "050eaca8",
    "outputId": "f96d25eb-0bb6-41f3-df58-cea45672bfc8"
   },
   "outputs": [
    {
     "data": {
      "text/plain": [
       "(30000, 10000)"
      ]
     },
     "execution_count": 54,
     "metadata": {},
     "output_type": "execute_result"
    }
   ],
   "source": [
    "df_dtm.shape"
   ]
  },
  {
   "cell_type": "code",
   "execution_count": 55,
   "id": "d4ab65c7",
   "metadata": {
    "id": "d4ab65c7"
   },
   "outputs": [],
   "source": [
    "# words=[]\n",
    "# for message in df_train['lemmatized']:\n",
    "#         for word in message.split():\n",
    "#             words.append(word)"
   ]
  },
  {
   "cell_type": "code",
   "execution_count": 56,
   "id": "cab3d277",
   "metadata": {
    "colab": {
     "base_uri": "https://localhost:8080/",
     "height": 603
    },
    "id": "cab3d277",
    "outputId": "c5523b62-1187-4d4f-8dcf-650a4f63fa76"
   },
   "outputs": [],
   "source": [
    "# from wordcloud import WordCloud\n",
    "# string_text = ' '.join(words)    \n",
    "# wc = WordCloud(width=1000, height=800).generate(string_text)\n",
    "# #wc = WordCloud(width=500,height=500,min_font_size=10,background_color='black').generate(str(words).strip())\n",
    "# plt.figure(figsize=(26,10))\n",
    "# plt.imshow(wc)\n",
    "# plt.title(' Most Common  Words',fontsize=30)\n",
    "# plt.axis('off')\n",
    "# plt.show()"
   ]
  },
  {
   "cell_type": "code",
   "execution_count": 57,
   "id": "9af09a26",
   "metadata": {
    "id": "9af09a26"
   },
   "outputs": [],
   "source": [
    "df_train['word_count'] = df_train['lemmatized'].apply(lambda x: len(str(x).split()))"
   ]
  },
  {
   "cell_type": "code",
   "execution_count": 58,
   "id": "5be0ca5c",
   "metadata": {
    "colab": {
     "base_uri": "https://localhost:8080/",
     "height": 354
    },
    "id": "5be0ca5c",
    "outputId": "e50c5cf1-7e67-4f0e-d1cf-e79d8b2dd4f4"
   },
   "outputs": [
    {
     "data": {
      "text/html": [
       "<div>\n",
       "<style scoped>\n",
       "    .dataframe tbody tr th:only-of-type {\n",
       "        vertical-align: middle;\n",
       "    }\n",
       "\n",
       "    .dataframe tbody tr th {\n",
       "        vertical-align: top;\n",
       "    }\n",
       "\n",
       "    .dataframe thead th {\n",
       "        text-align: right;\n",
       "    }\n",
       "</style>\n",
       "<table border=\"1\" class=\"dataframe\">\n",
       "  <thead>\n",
       "    <tr style=\"text-align: right;\">\n",
       "      <th></th>\n",
       "      <th>Class Index</th>\n",
       "      <th>Title</th>\n",
       "      <th>Description</th>\n",
       "      <th>news</th>\n",
       "      <th>word_count</th>\n",
       "      <th>cleaned</th>\n",
       "      <th>lemmatized</th>\n",
       "    </tr>\n",
       "  </thead>\n",
       "  <tbody>\n",
       "    <tr>\n",
       "      <th>0</th>\n",
       "      <td>4</td>\n",
       "      <td>BEA buzzing about Beehive</td>\n",
       "      <td>BURLINGAME, CALIF.-- BEA Systems is expanding ...</td>\n",
       "      <td>BEA buzzing about Beehive BURLINGAME, CALIF.--...</td>\n",
       "      <td>23</td>\n",
       "      <td>bea buzzing about beehive burlingame calif bea...</td>\n",
       "      <td>bea buzzing beehive burlingame calif bea syste...</td>\n",
       "    </tr>\n",
       "    <tr>\n",
       "      <th>1</th>\n",
       "      <td>3</td>\n",
       "      <td>Saudi Violence Pushes Oil Prices Higher</td>\n",
       "      <td>Oil prices were forced higher today by an outb...</td>\n",
       "      <td>Saudi Violence Pushes Oil Prices Higher Oil pr...</td>\n",
       "      <td>26</td>\n",
       "      <td>saudi violence pushes oil prices higher oil pr...</td>\n",
       "      <td>saudi violence push oil price high oil price f...</td>\n",
       "    </tr>\n",
       "    <tr>\n",
       "      <th>2</th>\n",
       "      <td>1</td>\n",
       "      <td>Storm shows Haiti #39;s straits</td>\n",
       "      <td>Muddy waters still occupied the heart of Gonai...</td>\n",
       "      <td>Storm shows Haiti # ;s straits Muddy waters st...</td>\n",
       "      <td>22</td>\n",
       "      <td>storm shows haiti s straits muddy waters still...</td>\n",
       "      <td>storm show haiti s straits muddy water occupy ...</td>\n",
       "    </tr>\n",
       "    <tr>\n",
       "      <th>3</th>\n",
       "      <td>4</td>\n",
       "      <td>Crews Fail to Find Tree-Killing Beetle (AP)</td>\n",
       "      <td>AP - Survey crews searching through woods and ...</td>\n",
       "      <td>Crews Fail to Find Tree-Killing Beetle (AP) AP...</td>\n",
       "      <td>28</td>\n",
       "      <td>crews fail to find treekilling beetle ap ap su...</td>\n",
       "      <td>crew fail find treekille beetle ap ap survey c...</td>\n",
       "    </tr>\n",
       "    <tr>\n",
       "      <th>4</th>\n",
       "      <td>2</td>\n",
       "      <td>Justice Is Too Light</td>\n",
       "      <td>It's too bad Stern stopped at 30 games for Ron...</td>\n",
       "      <td>Justice Is Too Light It is too bad Stern stopp...</td>\n",
       "      <td>15</td>\n",
       "      <td>justice is too light it is too bad stern stopp...</td>\n",
       "      <td>justice light bad stern stop game ron artest i...</td>\n",
       "    </tr>\n",
       "  </tbody>\n",
       "</table>\n",
       "</div>"
      ],
      "text/plain": [
       "   Class Index                                        Title  \\\n",
       "0            4                    BEA buzzing about Beehive   \n",
       "1            3      Saudi Violence Pushes Oil Prices Higher   \n",
       "2            1              Storm shows Haiti #39;s straits   \n",
       "3            4  Crews Fail to Find Tree-Killing Beetle (AP)   \n",
       "4            2                         Justice Is Too Light   \n",
       "\n",
       "                                         Description  \\\n",
       "0  BURLINGAME, CALIF.-- BEA Systems is expanding ...   \n",
       "1  Oil prices were forced higher today by an outb...   \n",
       "2  Muddy waters still occupied the heart of Gonai...   \n",
       "3  AP - Survey crews searching through woods and ...   \n",
       "4  It's too bad Stern stopped at 30 games for Ron...   \n",
       "\n",
       "                                                news  word_count  \\\n",
       "0  BEA buzzing about Beehive BURLINGAME, CALIF.--...          23   \n",
       "1  Saudi Violence Pushes Oil Prices Higher Oil pr...          26   \n",
       "2  Storm shows Haiti # ;s straits Muddy waters st...          22   \n",
       "3  Crews Fail to Find Tree-Killing Beetle (AP) AP...          28   \n",
       "4  Justice Is Too Light It is too bad Stern stopp...          15   \n",
       "\n",
       "                                             cleaned  \\\n",
       "0  bea buzzing about beehive burlingame calif bea...   \n",
       "1  saudi violence pushes oil prices higher oil pr...   \n",
       "2  storm shows haiti s straits muddy waters still...   \n",
       "3  crews fail to find treekilling beetle ap ap su...   \n",
       "4  justice is too light it is too bad stern stopp...   \n",
       "\n",
       "                                          lemmatized  \n",
       "0  bea buzzing beehive burlingame calif bea syste...  \n",
       "1  saudi violence push oil price high oil price f...  \n",
       "2  storm show haiti s straits muddy water occupy ...  \n",
       "3  crew fail find treekille beetle ap ap survey c...  \n",
       "4  justice light bad stern stop game ron artest i...  "
      ]
     },
     "execution_count": 58,
     "metadata": {},
     "output_type": "execute_result"
    }
   ],
   "source": [
    "df_train.head()"
   ]
  },
  {
   "cell_type": "markdown",
   "id": "733888d0",
   "metadata": {
    "id": "733888d0"
   },
   "source": [
    "#  Modelling"
   ]
  },
  {
   "cell_type": "code",
   "execution_count": 60,
   "id": "b7161675",
   "metadata": {
    "id": "b7161675"
   },
   "outputs": [],
   "source": [
    "from nltk.stem import WordNetLemmatizer\n",
    "lemmatizer = WordNetLemmatizer()"
   ]
  },
  {
   "cell_type": "code",
   "execution_count": null,
   "id": "7f4c9e19",
   "metadata": {
    "id": "7f4c9e19"
   },
   "outputs": [],
   "source": [
    "# X2= df_dtm\n",
    "# y2= df_train['Class Index']"
   ]
  },
  {
   "cell_type": "code",
   "execution_count": null,
   "id": "70ce3abe",
   "metadata": {
    "id": "70ce3abe"
   },
   "outputs": [],
   "source": [
    "# from sklearn.model_selection import train_test_split\n",
    "# X_train,X_test,y_train,y_test = train_test_split(X2,y2,test_size=0.15,random_state=2)"
   ]
  },
  {
   "cell_type": "code",
   "execution_count": null,
   "id": "5c02d38f",
   "metadata": {
    "id": "5c02d38f"
   },
   "outputs": [],
   "source": [
    "# from sklearn.svm import SVC"
   ]
  },
  {
   "cell_type": "code",
   "execution_count": null,
   "id": "fc4fc862",
   "metadata": {
    "id": "fc4fc862"
   },
   "outputs": [],
   "source": [
    "#svc= SVC()"
   ]
  },
  {
   "cell_type": "code",
   "execution_count": null,
   "id": "gmmqQ-Y3BIrZ",
   "metadata": {
    "id": "gmmqQ-Y3BIrZ"
   },
   "outputs": [],
   "source": [
    "#svc.fit(X_train, y_train)"
   ]
  },
  {
   "cell_type": "code",
   "execution_count": null,
   "id": "AK_N2VZvBNWQ",
   "metadata": {
    "id": "AK_N2VZvBNWQ"
   },
   "outputs": [],
   "source": [
    "# y_pred= svc.predict(X_test)\n",
    "# accuracy_score(y_test, y_pred)*100"
   ]
  },
  {
   "cell_type": "code",
   "execution_count": null,
   "id": "7B7FDIRA9_Em",
   "metadata": {
    "id": "7B7FDIRA9_Em"
   },
   "outputs": [],
   "source": [
    "#f1_score(y_test, y_pred, average= None)"
   ]
  },
  {
   "cell_type": "markdown",
   "id": "G_axoTYuBpUV",
   "metadata": {
    "id": "G_axoTYuBpUV"
   },
   "source": [
    "## PCA"
   ]
  },
  {
   "cell_type": "code",
   "execution_count": 61,
   "id": "Y2Ar53XZ_v0n",
   "metadata": {
    "id": "Y2Ar53XZ_v0n"
   },
   "outputs": [],
   "source": [
    "from sklearn.decomposition import PCA\n",
    "pca= PCA(n_components = 0.96)\n",
    "pca.fit(df_dtm)\n",
    "dim= pca.transform(df_dtm)"
   ]
  },
  {
   "cell_type": "code",
   "execution_count": 62,
   "id": "SwXf4RiD_wH7",
   "metadata": {
    "id": "SwXf4RiD_wH7"
   },
   "outputs": [],
   "source": [
    "X= dim\n",
    "y= df_train['Class Index']"
   ]
  },
  {
   "cell_type": "code",
   "execution_count": 63,
   "id": "7Qo0jjOply7w",
   "metadata": {
    "id": "7Qo0jjOply7w"
   },
   "outputs": [],
   "source": [
    "from sklearn.model_selection import train_test_split\n",
    "X_train,X_test,y_train,y_test = train_test_split(X,y,test_size=0.15,random_state=2)"
   ]
  },
  {
   "cell_type": "code",
   "execution_count": 64,
   "id": "8adf5fe0",
   "metadata": {
    "id": "8adf5fe0"
   },
   "outputs": [
    {
     "name": "stdout",
     "output_type": "stream",
     "text": [
      "[('logistic regression', LogisticRegression(n_jobs=-1))]\n"
     ]
    }
   ],
   "source": [
    "from sklearn.linear_model import LogisticRegression\n",
    "from sklearn.ensemble import RandomForestClassifier\n",
    "from sklearn.neighbors import KNeighborsClassifier\n",
    "from sklearn.tree import DecisionTreeClassifier\n",
    "from sklearn.ensemble import GradientBoostingClassifier\n",
    "from sklearn.ensemble import AdaBoostClassifier\n",
    "from xgboost import XGBClassifier\n",
    "\n",
    "\n",
    "LR= LogisticRegression(n_jobs= -1)\n",
    "# RF_reg = RandomForestClassifier(n_jobs= -1)\n",
    "#RFC=RandomForestClassifier(n_jobs= -1)\n",
    "# KNN=KNeighborsClassifier(n_jobs= -1)\n",
    "# DTC=DecisionTreeClassifier()\n",
    "# GBC=GradientBoostingClassifier()\n",
    "# ABC=AdaBoostClassifier(n_jobs= -1)\n",
    "#XGBC=XGBClassifier(n_jobs= -1)\n",
    "#clf=LinearSVC(n_jobs= -1)\n",
    "\n",
    "models = []\n",
    "\n",
    "#models.append((\"Linear Support Vector Classifier\",clf))\n",
    "models.append((\"logistic regression\",LR))\n",
    "# models.append((\"K Neighbors classifier\",KNN))\n",
    "# models.append((\"DECISION TREE CLASSIFIER\",DTC))\n",
    "#models.append((\"RANDOM FOREST CLASSIFIER\",RFC))\n",
    "# models.append((\"GRADIENT BOOSTING CLASSIFIER\",GBC))\n",
    "# models.append((\"ADA BOOST CLASSIFIER\",ABC))\n",
    "#models.append((\"XGB CLASSIFIER\",XGBC))\n",
    "print(models)"
   ]
  },
  {
   "cell_type": "code",
   "execution_count": 65,
   "id": "f2ab1314",
   "metadata": {
    "id": "f2ab1314"
   },
   "outputs": [
    {
     "name": "stdout",
     "output_type": "stream",
     "text": [
      "91.0 logistic regression\n"
     ]
    }
   ],
   "source": [
    "for name , classifier in models:\n",
    "    classifier.fit(X_train , y_train)\n",
    "    Y_pred=classifier.predict(X_test)\n",
    "    accuracy = accuracy_score(Y_pred,y_test).round(2)\n",
    "    print(accuracy*100,name)"
   ]
  },
  {
   "cell_type": "code",
   "execution_count": 79,
   "id": "406b84e7",
   "metadata": {},
   "outputs": [
    {
     "data": {
      "text/plain": [
       "LogisticRegression(n_jobs=-1)"
      ]
     },
     "execution_count": 79,
     "metadata": {},
     "output_type": "execute_result"
    }
   ],
   "source": [
    "classifier"
   ]
  },
  {
   "cell_type": "code",
   "execution_count": 70,
   "id": "kq1S4yDi975q",
   "metadata": {
    "id": "kq1S4yDi975q"
   },
   "outputs": [],
   "source": [
    "import pickle"
   ]
  },
  {
   "cell_type": "code",
   "execution_count": 98,
   "id": "33c057f3",
   "metadata": {},
   "outputs": [],
   "source": [
    "pickle.dump(TfidfVectorizer,open('vectorizer.pkl','wb'))"
   ]
  },
  {
   "cell_type": "code",
   "execution_count": 73,
   "id": "fc1e9ec4",
   "metadata": {},
   "outputs": [],
   "source": [
    "import os\n",
    "os.chdir(r\"C:\\Users\\sukrav\\Downloads\\news\")"
   ]
  },
  {
   "cell_type": "code",
   "execution_count": 80,
   "id": "1df59ac7",
   "metadata": {},
   "outputs": [],
   "source": [
    "pickle.dump(classifier,open('model.pkl','wb'))"
   ]
  },
  {
   "cell_type": "code",
   "execution_count": 81,
   "id": "38b98c23",
   "metadata": {},
   "outputs": [],
   "source": [
    "model = pickle.load(open('model.pkl','rb'))"
   ]
  },
  {
   "cell_type": "code",
   "execution_count": 91,
   "id": "09aac245",
   "metadata": {},
   "outputs": [
    {
     "data": {
      "text/plain": [
       "array([2], dtype=int64)"
      ]
     },
     "execution_count": 91,
     "metadata": {},
     "output_type": "execute_result"
    }
   ],
   "source": [
    "model.predict([X_test[1]])"
   ]
  },
  {
   "cell_type": "code",
   "execution_count": null,
   "id": "bbe6a503",
   "metadata": {},
   "outputs": [],
   "source": []
  }
 ],
 "metadata": {
  "accelerator": "GPU",
  "colab": {
   "collapsed_sections": [],
   "name": "News classificatoin project - Team 4.ipynb",
   "provenance": []
  },
  "gpuClass": "standard",
  "kernelspec": {
   "display_name": "Python 3",
   "language": "python",
   "name": "python3"
  },
  "language_info": {
   "codemirror_mode": {
    "name": "ipython",
    "version": 3
   },
   "file_extension": ".py",
   "mimetype": "text/x-python",
   "name": "python",
   "nbconvert_exporter": "python",
   "pygments_lexer": "ipython3",
   "version": "3.8.8"
  }
 },
 "nbformat": 4,
 "nbformat_minor": 5
}
